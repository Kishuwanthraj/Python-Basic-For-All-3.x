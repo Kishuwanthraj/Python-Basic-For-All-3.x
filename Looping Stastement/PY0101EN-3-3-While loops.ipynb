{
 "cells": [
  {
   "cell_type": "markdown",
   "metadata": {},
   "source": [
    "# while loops\n",
    "\n",
    "The **while** statement in Python is one of most general ways to perform iteration. \n",
    "* A **while** statement will repeatedly execute a single statement or group of statements as long as the condition is true. \n",
    "* The reason it is called a 'loop' is because the code statements are looped through over and over again until the condition is no longer met.\n",
    "\n",
    "\n",
    "* `while` is Keyword in python\n",
    "* `Test Expression` if this test Expression is True then only we can go and body of while\n",
    "\n",
    "The general format of a while loop is:\n",
    "\n",
    "    while Test Expression:\n",
    "        code statement/Body of a Loop\n",
    "    \n",
    "Let’s look at a few simple while loops in action. "
   ]
  },
  {
   "cell_type": "code",
   "execution_count": 6,
   "metadata": {},
   "outputs": [
    {
     "name": "stdout",
     "output_type": "stream",
     "text": [
      "10 Values\n",
      "11 Values\n",
      "12 Values\n",
      "13 Values\n",
      "14 Values\n"
     ]
    }
   ],
   "source": [
    "i = 10\n",
    "while i<15:\n",
    "    print(i,\"Values\")\n",
    "    i+=1"
   ]
  },
  {
   "cell_type": "markdown",
   "metadata": {},
   "source": [
    "<h3 id=\"while\">What is <code>while</code> loop?</h3>"
   ]
  },
  {
   "cell_type": "markdown",
   "metadata": {},
   "source": [
    "* As you can see, the <code>for</code> loop is used for a controlled flow of repetition.\n",
    "* However, what if we don't know when we want to stop the loop? What if we want to keep executing a code block until a certain condition is met? The <code>while</code> loop exists as a tool for repeated execution based on a condition. \n",
    "* The code block will keep being executed until the given logical condition returns a **False** boolean value."
   ]
  },
  {
   "cell_type": "markdown",
   "metadata": {},
   "source": [
    "Let’s say we would like to iterate through list <code>dates</code> and stop at the year 1973, then print out the number of iterations. This can be done with the following block of code:"
   ]
  },
  {
   "cell_type": "code",
   "execution_count": 45,
   "metadata": {},
   "outputs": [
    {
     "name": "stdout",
     "output_type": "stream",
     "text": [
      "1\n",
      "2\n",
      "3\n",
      "4\n",
      "5\n"
     ]
    }
   ],
   "source": [
    "i = 1\n",
    "while i < 6:\n",
    "    print(i)\n",
    "    i += 1"
   ]
  },
  {
   "cell_type": "code",
   "execution_count": 46,
   "metadata": {},
   "outputs": [
    {
     "name": "stdout",
     "output_type": "stream",
     "text": [
      "1\n",
      "2\n",
      "3\n",
      "4\n",
      "5\n",
      "i is no longer less than 6\n"
     ]
    }
   ],
   "source": [
    "i = 1\n",
    "while i < 6:\n",
    "    print(i)\n",
    "    i += 1\n",
    "else:\n",
    "      print(\"i is no longer less than 6\")"
   ]
  },
  {
   "cell_type": "code",
   "execution_count": null,
   "metadata": {},
   "outputs": [],
   "source": [
    "x = 8\n",
    "\n",
    "while x <= 10:\n",
    "    print ('x is currently: ',x)\n",
    "    x=x+1\n",
    "    print (' x is still less tnhan {}, adding 1 to x'.format(x))\n",
    "     # x = x+1"
   ]
  },
  {
   "cell_type": "code",
   "execution_count": null,
   "metadata": {},
   "outputs": [],
   "source": [
    "temp = 115\n",
    "while temp>112:\n",
    "    print(\"Temperature is\",temp)\n",
    "    temp = temp-1\n",
    "print(\"The tea is cool enough\")"
   ]
  },
  {
   "cell_type": "markdown",
   "metadata": {},
   "source": [
    "Notice how many times the print statements occurred and how the while loop kept going until the True condition was met, which occurred once x==10. Its important to note that once this occurred the code stopped. Lets see how we could add an else statement:"
   ]
  },
  {
   "cell_type": "code",
   "execution_count": null,
   "metadata": {},
   "outputs": [],
   "source": [
    "a = ['Apple','Graph','Cherry','Baz']  \n",
    "while a:\n",
    "    print(a.pop(-1))   # to print in Reverse Order"
   ]
  },
  {
   "cell_type": "code",
   "execution_count": null,
   "metadata": {},
   "outputs": [],
   "source": [
    "x =  8\n",
    "\n",
    "while x < 10:\n",
    "    print('x is currently: ',x)\n",
    "    print( ' x is still less than {}, adding 1 to x'.format(x))    \n",
    "    x+=1\n",
    "    \n",
    "else:\n",
    "    print ('All Done!')"
   ]
  },
  {
   "cell_type": "code",
   "execution_count": 35,
   "metadata": {},
   "outputs": [
    {
     "name": "stdout",
     "output_type": "stream",
     "text": [
      "5\n"
     ]
    }
   ],
   "source": [
    "Counter=5\n",
    "while(Counter>=5):\n",
    "    print(Counter)\n",
    "    Counter = Counter + 1\n",
    "    break\n",
    "    "
   ]
  },
  {
   "cell_type": "code",
   "execution_count": 7,
   "metadata": {
    "collapsed": false,
    "jupyter": {
     "outputs_hidden": false
    }
   },
   "outputs": [
    {
     "name": "stdout",
     "output_type": "stream",
     "text": [
      "1983\n",
      "1980\n",
      "1973\n",
      "It took  3 repetitions to get out of loop.\n"
     ]
    }
   ],
   "source": [
    "# While Loop Example\n",
    "\n",
    "dates = [1983, 1980, 1973, 2000]\n",
    "\n",
    "i = 0\n",
    "year = 0\n",
    "\n",
    "while(year != 1973):\n",
    "    year = dates[i]\n",
    "    i = i + 1\n",
    "    print(year)\n",
    "\n",
    "print(\"It took \", i ,\"repetitions to get out of loop.\")"
   ]
  },
  {
   "cell_type": "markdown",
   "metadata": {},
   "source": [
    "A while loop iterates merely until the condition in the argument is not  met, as shown in the following figure:"
   ]
  },
  {
   "cell_type": "markdown",
   "metadata": {},
   "source": [
    "<img src=\"https://s3-api.us-geo.objectstorage.softlayer.net/cf-courses-data/CognitiveClass/PY0101EN/Chapter%203/Images/LoopsWhile.gif\" width=\"650\" />"
   ]
  },
  {
   "cell_type": "markdown",
   "metadata": {},
   "source": [
    "Write a while loop to display the values of the Rating of an album playlist stored in the list <code>PlayListRatings</code>. If the score is less than 6, exit the loop. The list <code>PlayListRatings</code> is given by: <code>PlayListRatings = [10, 9.5, 10, 8, 7.5, 5, 10, 10]</code>"
   ]
  },
  {
   "cell_type": "code",
   "execution_count": 9,
   "metadata": {},
   "outputs": [
    {
     "name": "stdout",
     "output_type": "stream",
     "text": [
      "10 Good Rating\n",
      "9.5 Good Rating\n",
      "10 Good Rating\n",
      "8 Good Rating\n",
      "7.5 Good Rating\n"
     ]
    }
   ],
   "source": [
    "# Write your code below and press Shift+Enter to execute\n",
    "PlayListRatings = [10, 9.5, 10, 8, 7.5, 5, 10, 10]\n",
    "i = 1\n",
    "\n",
    "Rating = PlayListRatings[0]\n",
    "while (Rating>=6):\n",
    "    print(Rating,\"Good Rating\")\n",
    "    Rating = PlayListRatings[i]\n",
    "    i= i+1"
   ]
  },
  {
   "cell_type": "markdown",
   "metadata": {},
   "source": [
    "Double-click __here__ for the solution.\n",
    "<!-- \n",
    "PlayListRatings = [10, 9.5, 10, 8, 7.5, 5, 10, 10]\n",
    "i = 1\n",
    "Rating = PlayListRatings[0]\n",
    "while(Rating >= 6):\n",
    "    print(Rating)\n",
    "    Rating = PlayListRatings[i]\n",
    "    i = i + 1\n",
    " -->"
   ]
  },
  {
   "cell_type": "markdown",
   "metadata": {},
   "source": [
    "<hr>"
   ]
  },
  {
   "cell_type": "markdown",
   "metadata": {},
   "source": [
    "Write a while loop to copy the strings <code>'orange'</code> of the list <code>squares</code> to the list <code>new_squares</code>. Stop and exit the loop if the value on the list is not <code>'orange'</code>:"
   ]
  },
  {
   "cell_type": "code",
   "execution_count": 11,
   "metadata": {},
   "outputs": [
    {
     "name": "stdout",
     "output_type": "stream",
     "text": [
      "['orange', 'orange']\n"
     ]
    }
   ],
   "source": [
    "# Write your code below and press Shift+Enter to execute\n",
    "\n",
    "squares = ['orange', 'orange', 'purple', 'blue ', 'orange']\n",
    "new_squares = []\n",
    "i = 0\n",
    "while(squares[i] == 'orange'):\n",
    "    new_squares.append(squares[i])\n",
    "    i = i + 1\n",
    "print (new_squares)"
   ]
  },
  {
   "cell_type": "markdown",
   "metadata": {},
   "source": [
    "Double-click __here__ for the solution.\n",
    "<!-- \n",
    "squares = ['orange', 'orange', 'purple', 'blue ', 'orange']\n",
    "new_squares = []\n",
    "i = 0\n",
    "while(squares[i] == 'orange'):\n",
    "    new_squares.append(squares[i])\n",
    "    i = i + 1\n",
    "print (new_squares)\n",
    " -->"
   ]
  },
  {
   "cell_type": "markdown",
   "metadata": {},
   "source": [
    "### Pattern By using while loop"
   ]
  },
  {
   "cell_type": "code",
   "execution_count": 29,
   "metadata": {},
   "outputs": [
    {
     "name": "stdout",
     "output_type": "stream",
     "text": [
      "* * * * "
     ]
    }
   ],
   "source": [
    "i= 0\n",
    "while i<=3:\n",
    "    print('*',end=' ')\n",
    "    i+=1"
   ]
  },
  {
   "cell_type": "code",
   "execution_count": 30,
   "metadata": {},
   "outputs": [
    {
     "name": "stdout",
     "output_type": "stream",
     "text": [
      "1\n",
      "1 2\n",
      "1 2 3\n",
      "1 2 3 4\n",
      "1 2 3 4 5\n"
     ]
    }
   ],
   "source": [
    "line =1\n",
    "while line<=5:\n",
    "    pos =  1\n",
    "    while pos < line:\n",
    "        # this print will add the space after printing\n",
    "        print(pos, end=\" \")\n",
    "        pos += 1\n",
    "    else:\n",
    "        print(pos)\n",
    "    line += 1\n"
   ]
  },
  {
   "cell_type": "code",
   "execution_count": 31,
   "metadata": {},
   "outputs": [
    {
     "name": "stdout",
     "output_type": "stream",
     "text": [
      "*\n",
      "**\n",
      "***\n",
      "****\n"
     ]
    }
   ],
   "source": [
    "i = 1\n",
    "while i<5:\n",
    "    print('*'*i)\n",
    "    i+=1"
   ]
  },
  {
   "cell_type": "code",
   "execution_count": 32,
   "metadata": {},
   "outputs": [
    {
     "name": "stdout",
     "output_type": "stream",
     "text": [
      "*****\n",
      "****\n",
      "***\n",
      "**\n",
      "*\n"
     ]
    }
   ],
   "source": [
    "i=5\n",
    "while i>0:\n",
    "    print('*'*i)\n",
    "    i-=1"
   ]
  },
  {
   "cell_type": "code",
   "execution_count": 33,
   "metadata": {},
   "outputs": [
    {
     "name": "stdout",
     "output_type": "stream",
     "text": [
      "    *\n",
      "   **\n",
      "  ***\n",
      " ****\n"
     ]
    }
   ],
   "source": [
    "i = 1\n",
    "while i<5:\n",
    "    print(' '*(5-i)+'*'*i)\n",
    "    i+=1"
   ]
  },
  {
   "cell_type": "code",
   "execution_count": 36,
   "metadata": {},
   "outputs": [
    {
     "name": "stdout",
     "output_type": "stream",
     "text": [
      "******\n",
      "****\n",
      "**\n",
      "\n",
      "******\n",
      "****\n",
      "**\n",
      "\n",
      "******\n",
      "****\n",
      "**\n",
      "\n",
      "******\n",
      "****\n",
      "**\n",
      "\n"
     ]
    }
   ],
   "source": [
    "i = 0\n",
    "while i<=3:\n",
    "    j=3\n",
    "    while j>=0:\n",
    "        print('*'*(2*j))\n",
    "        j = j-1\n",
    "    i = i+1"
   ]
  },
  {
   "cell_type": "code",
   "execution_count": 40,
   "metadata": {},
   "outputs": [
    {
     "name": "stdout",
     "output_type": "stream",
     "text": [
      "    *\n",
      "   ***\n",
      "  *****\n",
      " *******\n"
     ]
    }
   ],
   "source": [
    "## Isosceles triangle\n",
    "i=1\n",
    "while i<5:\n",
    "    if i==1:\n",
    "        print(' '*(5-i) + '*')\n",
    "    else:\n",
    "        print (' '*(5-i) + '*'*i + '*'*(i-1))\n",
    "    i+=1 "
   ]
  },
  {
   "cell_type": "code",
   "execution_count": 43,
   "metadata": {},
   "outputs": [
    {
     "name": "stdout",
     "output_type": "stream",
     "text": [
      "         *\n",
      "        * *\n",
      "       *   *\n",
      "      *     *\n",
      "     *       *\n",
      "    *         *\n",
      "   *           *\n",
      "  *             *\n",
      " *               *\n",
      "*******************\n"
     ]
    }
   ],
   "source": [
    "i=1\n",
    "while i<=10:\n",
    "    if i==1:\n",
    "        print(' '*(10-i) + '*')\n",
    "    elif i==10:\n",
    "        print ('*'*(2*i-1))\n",
    "    else:\n",
    "        print (' '*(10-i) + '*' + ' '*(2*i-3) + '*')\n",
    "    i+=1"
   ]
  },
  {
   "cell_type": "code",
   "execution_count": 47,
   "metadata": {},
   "outputs": [
    {
     "name": "stdout",
     "output_type": "stream",
     "text": [
      "\n",
      " # \n",
      " #  # \n",
      " #  #  # \n"
     ]
    }
   ],
   "source": [
    "i = 0\n",
    "rows = 3\n",
    "while i <=rows:\n",
    "    print(\"{}\".format(\" # \"*i))\n",
    "    i+=1"
   ]
  },
  {
   "cell_type": "code",
   "execution_count": 48,
   "metadata": {},
   "outputs": [
    {
     "name": "stdout",
     "output_type": "stream",
     "text": [
      "               \n",
      "       #       \n",
      "     #  #      \n",
      "    #  #  #    \n",
      "  #  #  #  #   \n",
      " #  #  #  #  # \n"
     ]
    }
   ],
   "source": [
    "i = 0\n",
    "rows = 5 \n",
    "while i <=rows:\n",
    "    print(\"{:^15}\".format(\" # \"*i))\n",
    "    i+=1"
   ]
  },
  {
   "cell_type": "code",
   "execution_count": 49,
   "metadata": {},
   "outputs": [
    {
     "name": "stdout",
     "output_type": "stream",
     "text": [
      "                                                  \n",
      "                        #                         \n",
      "                       #  #                       \n",
      "                     #  #  #                      \n",
      "                    #  #  #  #                    \n",
      "                  #  #  #  #  #                   \n"
     ]
    }
   ],
   "source": [
    "i = 0\n",
    "rows = 5\n",
    "while i <=rows:\n",
    "    print(\"{:^50}\".format(\" # \"*i))\n",
    "    i+=1"
   ]
  },
  {
   "cell_type": "markdown",
   "metadata": {},
   "source": [
    "<hr>"
   ]
  },
  {
   "cell_type": "markdown",
   "metadata": {},
   "source": [
    "# Break, continue, pass\n",
    "\n",
    "We can use break, continue, and pass statements in our loops to add additional functionality for various cases. The three statements are defined by:\n",
    "\n",
    "1. **break:** Breaks out of the current closest enclosing loop.\n",
    "2. **continue:** Goes to the top of the closest enclosing loop.\n",
    "3. **pass:** Does nothing at all.\n",
    "4. **yield:** Yield expressions and statements are only used when defining a *generator* function, and are only used in the body of the generator\n",
    "function.\n",
    "    \n",
    "    \n",
    "Thinking about **break** and **continue** statements, the general format of the while loop looks like this:\n",
    "\n",
    "    while test: \n",
    "        code statement\n",
    "        if test: \n",
    "            break\n",
    "        if test: \n",
    "            continue \n",
    "    else:\n",
    "\n",
    "**break** and **continue** statements can appear anywhere inside the loop’s body,but we will usually put them further nested in conjunction with an **if** statement to perform an action based on some condition.\n",
    "\n",
    "Lets go ahead and look at some examples!"
   ]
  },
  {
   "cell_type": "code",
   "execution_count": null,
   "metadata": {},
   "outputs": [],
   "source": [
    "i = 1\n",
    "while i < 6:\n",
    "    print(i)\n",
    "    if i == 3:\n",
    "        break\n",
    "    i += 1"
   ]
  },
  {
   "cell_type": "code",
   "execution_count": null,
   "metadata": {},
   "outputs": [],
   "source": [
    "x = 0\n",
    "\n",
    "while x < 10:\n",
    "    print ('x is currently: ',x)\n",
    "    print (' x is still less than .{}, adding 1 to x'.format(x))\n",
    "    x+=1\n",
    "    if x == 3:\n",
    "        print ('\\n x==3 if Condation is true We have Break It')\n",
    "        break"
   ]
  },
  {
   "cell_type": "code",
   "execution_count": null,
   "metadata": {},
   "outputs": [],
   "source": [
    "i = 5\n",
    "j = 1\n",
    "while i>0:\n",
    "    while j<=5:\n",
    "        print('$'*j)\n",
    "        j+=1  # col \n",
    "        i-=1"
   ]
  },
  {
   "cell_type": "code",
   "execution_count": null,
   "metadata": {},
   "outputs": [],
   "source": [
    "i = 5\n",
    "while i>0:\n",
    "    j = 1\n",
    "    while j<=5:\n",
    "        print('$'*j)\n",
    "        j+=1  # col \n",
    "    i-=1"
   ]
  },
  {
   "cell_type": "code",
   "execution_count": null,
   "metadata": {},
   "outputs": [],
   "source": [
    "n = 3\n",
    "i = 1\n",
    "\n",
    "while i<=n:\n",
    "    print(\"Loop is Easy\",i)\n",
    "    i=i+1\n",
    "    #break"
   ]
  },
  {
   "cell_type": "code",
   "execution_count": null,
   "metadata": {},
   "outputs": [],
   "source": [
    "table = int(input(\"Enter the Number:\"))\n",
    "i = 1\n",
    "\n",
    "while i<=10:\n",
    "    print(table,'*',i,'=',table*i)\n",
    "    i+=1"
   ]
  },
  {
   "cell_type": "code",
   "execution_count": null,
   "metadata": {},
   "outputs": [],
   "source": [
    "sum1 = 0\n",
    "\n",
    "while 1==1:\n",
    "    n = float(input(\"Enter the Number:\"))\n",
    "    if n<0:   # if Input is nagative then Condation Fails\n",
    "        break\n",
    "    sum1+=n\n",
    "print(\"Sum is:\",sum1)"
   ]
  },
  {
   "cell_type": "code",
   "execution_count": null,
   "metadata": {},
   "outputs": [],
   "source": [
    "sum1 = 0\n",
    "\n",
    "while 1==1:\n",
    "    n = float(input(\"Enter the Number:\"))\n",
    "    if n<0:   # if Input is nagative then Condation Fails\n",
    "        continue\n",
    "    sum1+=n\n",
    "print(\"Sum is:\",sum1)"
   ]
  },
  {
   "cell_type": "code",
   "execution_count": null,
   "metadata": {},
   "outputs": [],
   "source": [
    "i = 0\n",
    "while i < 6:\n",
    "    i += 1\n",
    "    if i == 3:\n",
    "        continue\n",
    "    print(i)"
   ]
  },
  {
   "cell_type": "markdown",
   "metadata": {},
   "source": [
    "### Armstrong Number\n",
    "\n",
    "1. A positive Number is called Armstrong Number of order n if\n",
    "\n",
    "abcd = an + bn + cn + dn + .......\n",
    "\n",
    "\n",
    "153 = 1* 1 * 1* + 5* 5* 5 +3* 3* 3*  // is an armstrong Number"
   ]
  },
  {
   "cell_type": "code",
   "execution_count": null,
   "metadata": {},
   "outputs": [],
   "source": [
    "#num = 371\n",
    "num = int(input(\"Enter the Postive Number:\"))\n",
    "sum = 0\n",
    "\n",
    "temp = num\n",
    "while temp > 0:\n",
    "    digit = temp%10\n",
    "    sum += digit**3\n",
    "    temp//=10\n",
    "if num == sum:\n",
    "    print(num,\"is an armstrong Number\")\n",
    "else:\n",
    "    print(num,\"is not an armstrong Number\")"
   ]
  },
  {
   "cell_type": "code",
   "execution_count": null,
   "metadata": {},
   "outputs": [],
   "source": [
    "num = int(input(\"Enter the Postive Number:\"))\n",
    "\n",
    "order = len(str(num))\n",
    "\n",
    "sum1 = 0\n",
    "\n",
    "temp = num\n",
    "while temp > 0:\n",
    "    digit = temp%10\n",
    "    sum1 += digit**order\n",
    "    temp//=10\n",
    "if num == sum1:\n",
    "    print(num,\"is an armstrong Number\")\n",
    "else:\n",
    "    print(num,\"is not an armstrong Number\")"
   ]
  },
  {
   "cell_type": "code",
   "execution_count": null,
   "metadata": {},
   "outputs": [],
   "source": [
    "for num in range(100,4000+1):\n",
    "    order = len(str(num))\n",
    "    sum1 = 0\n",
    "    temp = num\n",
    "    while temp > 0:\n",
    "        digit = temp%10\n",
    "        sum1 += digit**order\n",
    "        temp//=10\n",
    "    if num == sum1:\n",
    "        print(num,\"is an armstrong Number\")"
   ]
  },
  {
   "cell_type": "markdown",
   "metadata": {},
   "source": [
    "Note how we have a printed statement when x==3, and a continue being printed out as we continue through the outer while loop. Let's put in a break once x ==3 and see if the result makes sense:"
   ]
  },
  {
   "cell_type": "code",
   "execution_count": null,
   "metadata": {},
   "outputs": [],
   "source": [
    "x = 0\n",
    "\n",
    "while x < 5:\n",
    "    print ('x is currently: ',x)\n",
    "    print (' x is still less than {}, adding 1 to x'.format(x))\n",
    "    x+=1\n",
    "    if x ==3:\n",
    "        print ('Breaking because x==3')\n",
    "        continue\n",
    "    else:\n",
    "        print ('continuing...')\n",
    "        "
   ]
  },
  {
   "cell_type": "code",
   "execution_count": null,
   "metadata": {},
   "outputs": [],
   "source": [
    "x = 0\n",
    "while x<5:\n",
    "    #x+=1\n",
    "    print(x)\n",
    "    x+=1\n",
    "    if x == 3:\n",
    "        break\n",
    "    else:\n",
    "        continue"
   ]
  },
  {
   "cell_type": "markdown",
   "metadata": {},
   "source": [
    "Note how the other else statement wasn't reached and continuing was never printed!\n",
    "\n",
    "After these brief but simple examples, you should feel comfortable using while statements in you code.\n",
    "\n",
    "**A word of caution however! It is possible to create an infinitely running loop with while statements. For example:**"
   ]
  },
  {
   "cell_type": "code",
   "execution_count": null,
   "metadata": {},
   "outputs": [],
   "source": [
    "# DO NOT RUN THIS CODE!!!! \n",
    "while True:\n",
    "    print ('Uh Oh infinite Loop!')"
   ]
  },
  {
   "cell_type": "code",
   "execution_count": null,
   "metadata": {},
   "outputs": [],
   "source": [
    "# DO NOT RUN THIS CODE!!!! \n",
    "while 1==1:\n",
    "    print ('Uh Oh infinite Loop!')"
   ]
  },
  {
   "cell_type": "markdown",
   "metadata": {},
   "source": [
    "**Q1** Given a string s check if it is palindrome or not.\n",
    "\n",
    "**Input:**\n",
    "The first line contains 'T' denoting the number of test cases. Then follows description of test cases.\n",
    "Each case begins with a single integer N denoting the length of string. The next line contains the string s.\n",
    "\n",
    "Example:\n",
    "`Input:`\n",
    "\n",
    "1\n",
    "\n",
    "4\n",
    "\n",
    "abba\n",
    "\n",
    "**Output:**\n",
    "Print \"Yes\" if it is a palindrome else \"No\". (Without the double quotes)"
   ]
  },
  {
   "cell_type": "code",
   "execution_count": 51,
   "metadata": {},
   "outputs": [
    {
     "name": "stdin",
     "output_type": "stream",
     "text": [
      "Test case number \n"
     ]
    },
    {
     "ename": "ValueError",
     "evalue": "invalid literal for int() with base 10: ''",
     "output_type": "error",
     "traceback": [
      "\u001b[1;31m---------------------------------------------------------------------------\u001b[0m",
      "\u001b[1;31mValueError\u001b[0m                                Traceback (most recent call last)",
      "\u001b[1;32m<ipython-input-51-313b2d9ddd7d>\u001b[0m in \u001b[0;36m<module>\u001b[1;34m\u001b[0m\n\u001b[1;32m----> 1\u001b[1;33m \u001b[0mt\u001b[0m \u001b[1;33m=\u001b[0m \u001b[0mint\u001b[0m\u001b[1;33m(\u001b[0m\u001b[0minput\u001b[0m\u001b[1;33m(\u001b[0m\u001b[1;34m\"Test case number\"\u001b[0m\u001b[1;33m)\u001b[0m\u001b[1;33m)\u001b[0m\u001b[1;33m\u001b[0m\u001b[1;33m\u001b[0m\u001b[0m\n\u001b[0m\u001b[0;32m      2\u001b[0m \u001b[1;32mwhile\u001b[0m \u001b[0mt\u001b[0m \u001b[1;33m>\u001b[0m \u001b[1;36m0\u001b[0m\u001b[1;33m:\u001b[0m\u001b[1;33m\u001b[0m\u001b[1;33m\u001b[0m\u001b[0m\n\u001b[0;32m      3\u001b[0m     \u001b[0ml\u001b[0m \u001b[1;33m=\u001b[0m \u001b[0minput\u001b[0m\u001b[1;33m(\u001b[0m\u001b[1;34m\"Number of Char\"\u001b[0m\u001b[1;33m)\u001b[0m\u001b[1;33m\u001b[0m\u001b[1;33m\u001b[0m\u001b[0m\n\u001b[0;32m      4\u001b[0m     \u001b[0mstr\u001b[0m \u001b[1;33m=\u001b[0m \u001b[0minput\u001b[0m\u001b[1;33m(\u001b[0m\u001b[1;33m)\u001b[0m\u001b[1;33m\u001b[0m\u001b[1;33m\u001b[0m\u001b[0m\n\u001b[0;32m      5\u001b[0m     \u001b[1;32mif\u001b[0m \u001b[0mstr\u001b[0m \u001b[1;33m==\u001b[0m \u001b[0mstr\u001b[0m\u001b[1;33m[\u001b[0m\u001b[1;33m:\u001b[0m\u001b[1;33m:\u001b[0m\u001b[1;33m-\u001b[0m\u001b[1;36m1\u001b[0m\u001b[1;33m]\u001b[0m\u001b[1;33m:\u001b[0m\u001b[1;33m\u001b[0m\u001b[1;33m\u001b[0m\u001b[0m\n",
      "\u001b[1;31mValueError\u001b[0m: invalid literal for int() with base 10: ''"
     ]
    }
   ],
   "source": [
    "t = int(input(\"Test case number\"))\n",
    "while t > 0:\n",
    "    l = input(\"Number of Char\")\n",
    "    str = input()\n",
    "    if str == str[::-1]:\n",
    "        print(\"Yes\")\n",
    "    else:\n",
    "        print(\"No\")\n",
    "    t -= 1"
   ]
  },
  {
   "cell_type": "markdown",
   "metadata": {},
   "source": [
    "**Q2:** The RPS world championship is here. Here two players A and B play the game. You need to determine who wins. Both players can choose moves from the set {R,P,S}. The game is a draw if both players choose the same item. \n",
    "\n",
    "**Rules:** The winning rules of RPS are given below:\n",
    "- Rock crushes scissor\n",
    "- Scissor cuts paper\n",
    "- Paper envelops rock\n",
    "\n",
    "**Input:**The first line of input contains T denoting the number of testcases. T testcases follow. Each testcase contains single line of input that contains two characters sidebyside. These characters denote the moves of players A and B respectively.\n",
    "\n",
    "**Output:**For each testcase, in a newline, print the winner. If match is draw, print 'DRAW'.\n",
    "\n",
    "**Constraints:** 1<= T <= 50\n",
    "\n",
    "**Example:**\n",
    "- Input: 7\n",
    "    - RR\n",
    "    - RS\n",
    "    - SR\n",
    "    - SP\n",
    "    - PP\n",
    "    - PS\n",
    "    - RP\n",
    "\n",
    "- Output:\n",
    "    - DRAW\n",
    "        - A\n",
    "        - B\n",
    "        - A\n",
    "    - DRAW\n",
    "        - B\n",
    "        - B"
   ]
  },
  {
   "cell_type": "code",
   "execution_count": null,
   "metadata": {},
   "outputs": [],
   "source": [
    "t = int(input())\n",
    "\n",
    "while(t>0):\n",
    "    game = input()\n",
    "    if game[0] == game[1]:\n",
    "        print(\"DRAW\")\n",
    "    elif ((game[0]=='R' and game[1]=='S') or (game[0]=='S' and game[1]=='P') or (game[0]=='P' and game[1]=='R')):\n",
    "        print(\"A\")\n",
    "    else:\n",
    "        print(\"B\")\n",
    "    t-=1"
   ]
  },
  {
   "cell_type": "markdown",
   "metadata": {},
   "source": [
    "**Q2**Given a string consisting of alphabets and others characters, \n",
    "the task is to remove all the characters other than alphabets and print the string so formed.\n",
    "\n",
    "- **Input:**\n",
    "The first line of input contains an integer T denoting the number of test cases. \n",
    "Then T test cases follow. Each test case contains a string S.\n",
    "- **Output:**\n",
    "For each test case, print the remaining string in new line, \n",
    "If no character remains in the string print \"-1\"."
   ]
  },
  {
   "cell_type": "code",
   "execution_count": null,
   "metadata": {},
   "outputs": [],
   "source": [
    "t=int(input())\n",
    "while t>0:\n",
    "    a = input()  # hi\n",
    "    flag = 0\n",
    "    for i in range(0,len(a)):\n",
    "        if a[i] >='a' and a[i] <='z':\n",
    "            print(a[i],end='')\n",
    "            flag = 1\n",
    "        elif a[i] >='A' and a[i] <='Z': \n",
    "            print(a[i],end='')\n",
    "            flag = 1\n",
    "    if flag == 1:\n",
    "        print()\n",
    "    else:\n",
    "        print(-1)\n",
    "    t-=1"
   ]
  },
  {
   "cell_type": "markdown",
   "metadata": {},
   "source": [
    "**Q 2** A series with same common difference is known as arithmetic series. \n",
    "The first term of series is 'a' and common difference is d. The series looks like \n",
    "a, a + d, a + 2d, a + 3d, . . . Find the sum of series.\n",
    "\n",
    "**Test Case-1**\n",
    "\n",
    "    - Input : a = 1\n",
    "            d = 2\n",
    "            n = 4\n",
    "    - Output : 16\n",
    "\n",
    "        1 + 3 + 5 + 7 = 16\n",
    "**Test Case -2**\n",
    "\n",
    "    - Input : a = 2.5\n",
    "            d = 1.5\n",
    "            n = 20\n",
    "    - Output : 335\n",
    "\n",
    "- Input:\n",
    "The first line consists of an integer T i.e number of test cases. The first line and only \n",
    "line of each test case consists of three values a,d,n.\n",
    "- Output:\n",
    "Print the sum of the series. With two decimal places.\n",
    "Example:\n",
    "- Input:\n",
    "2\n",
    "1 2 4\n",
    "2.5 1.5 20\n",
    "- Output:\n",
    "16.00\n",
    "335.00"
   ]
  },
  {
   "cell_type": "code",
   "execution_count": null,
   "metadata": {},
   "outputs": [],
   "source": [
    "t = int(input(\"Enter the T Value\"))\n",
    "while t > 0:\n",
    "    a,d,n = map(float,input(\"Enter the a,d,n Values\").split(','))\n",
    "    s = (n/2)*(2*a + (n- 1)*d)\n",
    "    print(format(s,'.2f'))\n",
    "    t -= 1"
   ]
  },
  {
   "cell_type": "code",
   "execution_count": null,
   "metadata": {},
   "outputs": [],
   "source": [
    "num = int(input(\"Please Enter the Number:\"))\n",
    "\n",
    "count = 0\n",
    "\n",
    "for i in range(2,(num//2+1)):\n",
    "    if (num % i == 0):\n",
    "        count = count+1\n",
    "        break\n",
    "if (count==0 and num!=1):\n",
    "        print(\"{} is Number a prime Number\".format(num))\n",
    "else:\n",
    "    print(\"{} is a Not Prime Number\".format(num))"
   ]
  },
  {
   "cell_type": "code",
   "execution_count": null,
   "metadata": {},
   "outputs": [],
   "source": [
    "Number = int(input(\"Please Enter the Number\"))\n",
    "\n",
    "\n",
    "i = 2\n",
    "toggle = 0\n",
    "\n",
    "while i<Number:\n",
    "    if Number % i == 0:\n",
    "        toggle =1 \n",
    "        print(\"{} is Not  a Prime Number:\".format(Number))\n",
    "    i = i+1\n",
    "if toggle == 0:\n",
    "    print(\"{} is a Prime Number\".format(Number))"
   ]
  }
 ],
 "metadata": {
  "kernelspec": {
   "display_name": "Python 3",
   "language": "python",
   "name": "python3"
  },
  "language_info": {
   "codemirror_mode": {
    "name": "ipython",
    "version": 3
   },
   "file_extension": ".py",
   "mimetype": "text/x-python",
   "name": "python",
   "nbconvert_exporter": "python",
   "pygments_lexer": "ipython3",
   "version": "3.6.8"
  }
 },
 "nbformat": 4,
 "nbformat_minor": 4
}
