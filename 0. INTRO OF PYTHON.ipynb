{
  "cells": [
    {
      "cell_type": "markdown",
      "source": [
        "# What is Python?\n",
        "* Python is an interpreted, high-level, general-purpose programming language. \n",
        "* Created by Guido van Rossum and first released in 1991, Python's design philosophy emphasizes code readability with its notable use of significant whitespace.\n",
        "* Filename extensions: .py,.pyi,.pyc,.pyd,.pyo (prior to 3.5),.pyw,.pyz\n",
        "* Its language constructs and object-oriented approach aim to help programmers write clear, logical code for small and large-scale projects\n",
        "* Python is dynamically typed and garbage-collected\n",
        "* It supports multiple programming paradigms, including structured (particularly, procedural), object-oriented, and functional programming\n",
        "* Python is often described as a \"batteries included\" language due to its comprehensive standard library."
      ],
      "metadata": {}
    },
    {
      "cell_type": "markdown",
      "source": [
        "\n",
        "Python is a popular programming language. It was created in 1991 by Guido van Rossum.\n",
        "\n",
        "It is used for:\n",
        "\n",
        "1. web development (server-side),\n",
        "2. software development,\n",
        "3. mathematics,\n",
        "4. system scripting,\n",
        "5. Admin\n",
        "6. IOT\n",
        "7. Game"
      ],
      "metadata": {}
    },
    {
      "cell_type": "markdown",
      "source": [
        "# What can Python do?"
      ],
      "metadata": {}
    },
    {
      "cell_type": "markdown",
      "source": [
        "1. Python can be used on a server to create web applications.\n",
        "2. Python can be used alongside software to create workflows.\n",
        "3. Python can connect to database systems. It can also read and modify files.\n",
        "4. Python can be used to handle big data and perform complex mathematics.\n",
        "5. Python can be used for rapid prototyping, or for production-ready software development."
      ],
      "metadata": {}
    },
    {
      "cell_type": "markdown",
      "source": [
        "# Why Python?"
      ],
      "metadata": {}
    },
    {
      "cell_type": "markdown",
      "source": [
        "* Python works on different platforms (Windows, Mac, Linux, Raspberry Pi, etc).\n",
        "* Python has a simple syntax similar to the English language.\n",
        "* Python has syntax that allows developers to write programs with fewer lines than some other programming languages.\n",
        "* Python runs on an interpreter system, meaning that code can be executed as soon as it is written. This means that prototyping can be very quick.\n",
        "* Python can be treated in a procedural way, an object-orientated way or a functional way."
      ],
      "metadata": {}
    },
    {
      "cell_type": "markdown",
      "source": [
        "# Good to know"
      ],
      "metadata": {}
    },
    {
      "cell_type": "markdown",
      "source": [
        "* The most recent major version of Python is Python 3, which we shall be using in this tutorial. However, Python 2, although not being updated with anything other than security updates, is still quite popular.\n",
        "* In this tutorial Python will be written in a text editor. It is possible to write Python in an Integrated Development Environment, such as Thonny, Pycharm, Netbeans or Eclipse which are particularly useful when managing larger collections of Python files."
      ],
      "metadata": {}
    },
    {
      "cell_type": "markdown",
      "source": [
        "# Python Syntax compared to other programming languages"
      ],
      "metadata": {}
    },
    {
      "cell_type": "markdown",
      "source": [
        "* Python was designed to for readability, and has some similarities to the English language with influence from mathematics.\n",
        "* Python uses new lines to complete a command, as opposed to other programming languages which often use semicolons or parentheses.\n",
        "* Python relies on indentation, using whitespace, to define scope; such as the scope of loops, functions and classes. Other programming languages often use curly-brackets for this purpose."
      ],
      "metadata": {}
    },
    {
      "cell_type": "markdown",
      "source": [
        "## History\n",
        "* The programming language Python was conceived in the late 1980s and its implementation was started in December 1989 by `Guido van Rossum` at `CWI` in the `Netherlands` as a successor to `ABC` capable of exception handling and interfacing with the Amoeba operating system.\n",
        "* Van Rossum is Python's principal author, and his continuing central role in deciding the direction of Python is reflected in the title given to him by the Python community, Benevolent Dictator for Life (BDFL).\n",
        "* However, van Rossum stepped down as leader on July 12, 2018. \n",
        "* Python was named for the BBC TV show Monty Python's Flying Circus."
      ],
      "metadata": {
        "nteract": {
          "transient": {
            "deleting": false
          }
        }
      }
    },
    {
      "cell_type": "markdown",
      "source": [],
      "metadata": {
        "nteract": {
          "transient": {
            "deleting": false
          }
        }
      }
    }
  ],
  "metadata": {
    "kernelspec": {
      "display_name": "Python 3",
      "language": "python",
      "name": "python3"
    },
    "language_info": {
      "name": "python",
      "version": "3.6.8",
      "mimetype": "text/x-python",
      "codemirror_mode": {
        "name": "ipython",
        "version": 3
      },
      "pygments_lexer": "ipython3",
      "nbconvert_exporter": "python",
      "file_extension": ".py"
    },
    "nteract": {
      "version": "0.24.1"
    }
  },
  "nbformat": 4,
  "nbformat_minor": 4
}