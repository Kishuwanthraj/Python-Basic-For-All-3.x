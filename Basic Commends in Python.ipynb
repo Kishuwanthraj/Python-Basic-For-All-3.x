{
  "cells": [
    {
      "cell_type": "markdown",
      "source": [
        "# Basic Commends in Python \n",
        "* pip install **Package name**\n",
        "* pip uninstall **Package name**\n",
        "* pip list (used For To list all the Package we install in your machine)"
      ],
      "metadata": {
        "nteract": {
          "transient": {
            "deleting": false
          }
        }
      }
    },
    {
      "cell_type": "markdown",
      "source": [
        "### How Update package\n",
        "1. pip install --upgrade **package name** (i will update From Older Version to New Version)\n",
        "2. pip list --outdated (List outdated packages (excluding editables), and the latest version available)\n",
        "3. pip install update **package name**  ( i will Update on two package(Style and update))"
      ],
      "metadata": {
        "nteract": {
          "transient": {
            "deleting": false
          }
        }
      }
    },
    {
      "cell_type": "code",
      "source": [
        "pip list"
      ],
      "outputs": [
        {
          "output_type": "stream",
          "name": "stdout",
          "text": [
            "Package                Version\n",
            "---------------------- -----------\n",
            "absl-py                0.9.0\n",
            "appdirs                1.4.4\n",
            "asgiref                3.2.7\n",
            "astor                  0.8.1\n",
            "astropy                4.0.1.post1\n",
            "async-generator        1.10\n",
            "attrs                  19.3.0\n",
            "backcall               0.2.0\n",
            "bleach                 3.1.5\n",
            "blis                   0.4.1\n",
            "Brotli                 1.0.7\n",
            "cachetools             4.1.0\n",
            "catalogue              1.0.0\n",
            "category-encoders      2.2.2\n",
            "certifi                2020.4.5.2\n",
            "cftime                 1.1.3\n",
            "chardet                3.0.4\n",
            "Note: you may need to restart the kernel to use updated packages.\n",
            "chatterbot-corpus      1.2.0\n",
            "click                  7.1.2\n",
            "colorama               0.4.3\n",
            "confuse                1.1.0\n",
            "cycler                 0.10.0\n",
            "cymem                  2.0.3\n",
            "dash                   1.12.0\n",
            "dash-core-components   1.10.0\n",
            "dash-html-components   1.0.3\n",
            "dash-renderer          1.4.1\n",
            "dash-table             4.7.0\n",
            "decorator              4.4.2\n",
            "defusedxml             0.6.0\n",
            "distlib                0.3.1\n",
            "Django                 3.0.7\n",
            "entrypoints            0.3\n",
            "filelock               3.0.12\n",
            "Flask                  1.1.2\n",
            "Flask-Compress         1.5.0\n",
            "Flask-WTF              0.14.3\n",
            "future                 0.18.2\n",
            "gast                   0.2.2\n",
            "google-auth            1.17.1\n",
            "google-auth-oauthlib   0.4.1\n",
            "google-pasta           0.2.0\n",
            "graphviz               0.14\n",
            "grpcio                 1.29.0\n",
            "h5py                   2.10.0\n",
            "htmlmin                0.1.12\n",
            "idna                   2.8\n",
            "ImageHash              4.1.0\n",
            "imageio                2.8.0\n",
            "importlib-metadata     1.6.1\n",
            "importlib-resources    2.0.1\n",
            "imutils                0.5.3\n",
            "ipykernel              5.3.0\n",
            "ipython                7.15.0\n",
            "ipython-genutils       0.2.0\n",
            "ipywidgets             7.5.1\n",
            "itsdangerous           1.1.0\n",
            "jedi                   0.17.0\n",
            "Jinja2                 2.11.2\n",
            "joblib                 0.15.1\n",
            "json5                  0.9.5\n",
            "jsonschema             3.2.0\n",
            "jupyter-client         6.1.3\n",
            "jupyter-core           4.6.3\n",
            "jupyter-server         0.1.1\n",
            "jupyterlab             2.2.0\n",
            "jupyterlab-pygments    0.1.1\n",
            "jupyterlab-server      1.1.5\n",
            "Keras                  2.3.1\n",
            "Keras-Applications     1.0.8\n",
            "Keras-Preprocessing    1.1.2\n",
            "kiwisolver             1.2.0\n",
            "lightgbm               2.3.1\n",
            "llvmlite               0.33.0\n",
            "lxml                   4.5.1\n",
            "Markdown               3.2.2\n",
            "MarkupSafe             1.1.1\n",
            "matplotlib             3.2.1\n",
            "missingno              0.4.2\n",
            "mistune                0.8.4\n",
            "murmurhash             1.0.2\n",
            "mysql                  0.0.2\n",
            "mysql-connector-python 8.0.21\n",
            "mysqlclient            1.4.6\n",
            "nbconvert              5.6.1\n",
            "nbformat               5.0.7\n",
            "netCDF4                1.5.3\n",
            "networkx               2.4\n",
            "nltk                   3.5\n",
            "notebook               6.0.3\n",
            "numba                  0.50.0\n",
            "numexpr                2.7.1\n",
            "numpy                  1.19.1\n",
            "oauthlib               3.1.0\n",
            "opencv-python          4.2.0.34\n",
            "opt-einsum             3.2.1\n",
            "packaging              20.4\n",
            "pandas                 1.0.4\n",
            "pandas-datareader      0.8.1\n",
            "pandas-profiling       2.8.0\n",
            "pandocfilters          1.4.2\n",
            "parso                  0.7.0\n",
            "patsy                  0.5.1\n",
            "phik                   0.10.0\n",
            "pickleshare            0.7.5\n",
            "Pillow                 7.1.2\n",
            "pip                    20.1.1\n",
            "plac                   1.1.3\n",
            "plotly                 4.8.1\n",
            "portpicker             1.2.0\n",
            "preshed                3.0.2\n",
            "prometheus-client      0.8.0\n",
            "prompt-toolkit         3.0.5\n",
            "protobuf               3.12.2\n",
            "pyactiveresource       2.2.1\n",
            "pyarrow                0.17.1\n",
            "pyasn1                 0.4.8\n",
            "pyasn1-modules         0.2.8\n",
            "pydotplus              2.0.2\n",
            "Pygments               2.6.1\n",
            "pyparsing              2.4.7\n",
            "pyrsistent             0.16.0\n",
            "python-dateutil        2.8.1\n",
            "pytz                   2020.1\n",
            "PyWavelets             1.1.1\n",
            "pywin32                227\n",
            "pywinpty               0.5.7\n",
            "PyYAML                 3.13\n",
            "pyzmq                  19.0.1\n",
            "regex                  2020.6.8\n",
            "requests               2.23.0\n",
            "requests-oauthlib      1.3.0\n",
            "retrying               1.3.3\n",
            "rsa                    4.2\n",
            "scikit-image           0.17.2\n",
            "scikit-learn           0.23.1\n",
            "scipy                  1.4.1\n",
            "seaborn                0.10.1\n",
            "Send2Trash             1.5.0\n",
            "setuptools             41.0.0\n",
            "ShopifyAPI             8.0.1\n",
            "six                    1.15.0\n",
            "spacy                  2.2.4\n",
            "sqlparse               0.3.1\n",
            "srsly                  1.0.2\n",
            "statsmodels            0.11.1\n",
            "style                  1.1.0\n",
            "sweetviz               1.0a7\n",
            "tangled-up-in-unicode  0.0.6\n",
            "tensorboard            2.0.2\n",
            "tensorflow             2.0.0\n",
            "tensorflow-estimator   2.0.1\n",
            "termcolor              1.1.0\n",
            "terminado              0.8.3\n",
            "testpath               0.4.4\n",
            "thinc                  7.4.0\n",
            "threadpoolctl          2.1.0\n",
            "thrift                 0.13.0\n",
            "tifffile               2020.6.3\n",
            "tornado                6.0.4\n",
            "tqdm                   4.46.1\n",
            "traitlets              4.3.3\n",
            "update                 0.0.1\n",
            "uritools               3.0.0\n",
            "urlextract             0.14.0\n",
            "urllib3                1.24.3\n",
            "virtualenv             20.0.26\n",
            "visions                0.4.4\n",
            "voila                  0.1.21\n",
            "wasabi                 0.6.0\n",
            "wcwidth                0.2.4\n",
            "webencodings           0.5.1\n",
            "Werkzeug               1.0.1\n",
            "wget                   3.2\n",
            "wheel                  0.34.2\n",
            "widgetsnbextension     3.5.1\n",
            "wrapt                  1.12.1\n",
            "WTForms                2.3.1\n",
            "xgboost                0.90\n",
            "xlrd                   1.2.0\n",
            "zipp                   3.1.0\n"
          ]
        }
      ],
      "execution_count": 8,
      "metadata": {
        "collapsed": true,
        "jupyter": {
          "source_hidden": false,
          "outputs_hidden": false
        },
        "nteract": {
          "transient": {
            "deleting": false
          }
        },
        "execution": {
          "iopub.status.busy": "2020-07-27T16:17:43.844Z",
          "iopub.execute_input": "2020-07-27T16:17:43.854Z",
          "iopub.status.idle": "2020-07-27T16:17:46.901Z",
          "shell.execute_reply": "2020-07-27T16:17:46.922Z"
        }
      }
    },
    {
      "cell_type": "code",
      "source": [
        "# Use json formatting\n",
        "\n",
        "!pip list --format=json\n"
      ],
      "outputs": [
        {
          "output_type": "stream",
          "name": "stdout",
          "text": [
            "[{\"name\": \"absl-py\", \"version\": \"0.9.0\"}, {\"name\": \"appdirs\", \"version\": \"1.4.4\"}, {\"name\": \"asgiref\", \"version\": \"3.2.7\"}, {\"name\": \"astor\", \"version\": \"0.8.1\"}, {\"name\": \"astropy\", \"version\": \"4.0.1.post1\"}, {\"name\": \"async-generator\", \"version\": \"1.10\"}, {\"name\": \"attrs\", \"version\": \"19.3.0\"}, {\"name\": \"backcall\", \"version\": \"0.2.0\"}, {\"name\": \"bleach\", \"version\": \"3.1.5\"}, {\"name\": \"blis\", \"version\": \"0.4.1\"}, {\"name\": \"Brotli\", \"version\": \"1.0.7\"}, {\"name\": \"cachetools\", \"version\": \"4.1.0\"}, {\"name\": \"catalogue\", \"version\": \"1.0.0\"}, {\"name\": \"category-encoders\", \"version\": \"2.2.2\"}, {\"name\": \"certifi\", \"version\": \"2020.4.5.2\"}, {\"name\": \"cftime\", \"version\": \"1.1.3\"}, {\"name\": \"chardet\", \"version\": \"3.0.4\"}, {\"name\": \"chatterbot-corpus\", \"version\": \"1.2.0\"}, {\"name\": \"click\", \"version\": \"7.1.2\"}, {\"name\": \"colorama\", \"version\": \"0.4.3\"}, {\"name\": \"confuse\", \"version\": \"1.1.0\"}, {\"name\": \"cycler\", \"version\": \"0.10.0\"}, {\"name\": \"cymem\", \"version\": \"2.0.3\"}, {\"name\": \"dash\", \"version\": \"1.12.0\"}, {\"name\": \"dash-core-components\", \"version\": \"1.10.0\"}, {\"name\": \"dash-html-components\", \"version\": \"1.0.3\"}, {\"name\": \"dash-renderer\", \"version\": \"1.4.1\"}, {\"name\": \"dash-table\", \"version\": \"4.7.0\"}, {\"name\": \"decorator\", \"version\": \"4.4.2\"}, {\"name\": \"defusedxml\", \"version\": \"0.6.0\"}, {\"name\": \"distlib\", \"version\": \"0.3.1\"}, {\"name\": \"Django\", \"version\": \"3.0.7\"}, {\"name\": \"entrypoints\", \"version\": \"0.3\"}, {\"name\": \"filelock\", \"version\": \"3.0.12\"}, {\"name\": \"Flask\", \"version\": \"1.1.2\"}, {\"name\": \"Flask-Compress\", \"version\": \"1.5.0\"}, {\"name\": \"Flask-WTF\", \"version\": \"0.14.3\"}, {\"name\": \"future\", \"version\": \"0.18.2\"}, {\"name\": \"gast\", \"version\": \"0.2.2\"}, {\"name\": \"google-auth\", \"version\": \"1.17.1\"}, {\"name\": \"google-auth-oauthlib\", \"version\": \"0.4.1\"}, {\"name\": \"google-pasta\", \"version\": \"0.2.0\"}, {\"name\": \"graphviz\", \"version\": \"0.14\"}, {\"name\": \"grpcio\", \"version\": \"1.29.0\"}, {\"name\": \"h5py\", \"version\": \"2.10.0\"}, {\"name\": \"htmlmin\", \"version\": \"0.1.12\"}, {\"name\": \"idna\", \"version\": \"2.8\"}, {\"name\": \"ImageHash\", \"version\": \"4.1.0\"}, {\"name\": \"imageio\", \"version\": \"2.8.0\"}, {\"name\": \"importlib-metadata\", \"version\": \"1.6.1\"}, {\"name\": \"importlib-resources\", \"version\": \"2.0.1\"}, {\"name\": \"imutils\", \"version\": \"0.5.3\"}, {\"name\": \"ipykernel\", \"version\": \"5.3.0\"}, {\"name\": \"ipython\", \"version\": \"7.15.0\"}, {\"name\": \"ipython-genutils\", \"version\": \"0.2.0\"}, {\"name\": \"ipywidgets\", \"version\": \"7.5.1\"}, {\"name\": \"itsdangerous\", \"version\": \"1.1.0\"}, {\"name\": \"jedi\", \"version\": \"0.17.0\"}, {\"name\": \"Jinja2\", \"version\": \"2.11.2\"}, {\"name\": \"joblib\", \"version\": \"0.15.1\"}, {\"name\": \"json5\", \"version\": \"0.9.5\"}, {\"name\": \"jsonschema\", \"version\": \"3.2.0\"}, {\"name\": \"jupyter-client\", \"version\": \"6.1.3\"}, {\"name\": \"jupyter-core\", \"version\": \"4.6.3\"}, {\"name\": \"jupyter-server\", \"version\": \"0.1.1\"}, {\"name\": \"jupyterlab\", \"version\": \"2.2.0\"}, {\"name\": \"jupyterlab-pygments\", \"version\": \"0.1.1\"}, {\"name\": \"jupyterlab-server\", \"version\": \"1.1.5\"}, {\"name\": \"Keras\", \"version\": \"2.3.1\"}, {\"name\": \"Keras-Applications\", \"version\": \"1.0.8\"}, {\"name\": \"Keras-Preprocessing\", \"version\": \"1.1.2\"}, {\"name\": \"kiwisolver\", \"version\": \"1.2.0\"}, {\"name\": \"lightgbm\", \"version\": \"2.3.1\"}, {\"name\": \"llvmlite\", \"version\": \"0.33.0\"}, {\"name\": \"lxml\", \"version\": \"4.5.1\"}, {\"name\": \"Markdown\", \"version\": \"3.2.2\"}, {\"name\": \"MarkupSafe\", \"version\": \"1.1.1\"}, {\"name\": \"matplotlib\", \"version\": \"3.2.1\"}, {\"name\": \"missingno\", \"version\": \"0.4.2\"}, {\"name\": \"mistune\", \"version\": \"0.8.4\"}, {\"name\": \"murmurhash\", \"version\": \"1.0.2\"}, {\"name\": \"mysql\", \"version\": \"0.0.2\"}, {\"name\": \"mysql-connector-python\", \"version\": \"8.0.21\"}, {\"name\": \"mysqlclient\", \"version\": \"1.4.6\"}, {\"name\": \"nbconvert\", \"version\": \"5.6.1\"}, {\"name\": \"nbformat\", \"version\": \"5.0.7\"}, {\"name\": \"netCDF4\", \"version\": \"1.5.3\"}, {\"name\": \"networkx\", \"version\": \"2.4\"}, {\"name\": \"nltk\", \"version\": \"3.5\"}, {\"name\": \"notebook\", \"version\": \"6.0.3\"}, {\"name\": \"numba\", \"version\": \"0.50.0\"}, {\"name\": \"numexpr\", \"version\": \"2.7.1\"}, {\"name\": \"numpy\", \"version\": \"1.19.1\"}, {\"name\": \"oauthlib\", \"version\": \"3.1.0\"}, {\"name\": \"opencv-python\", \"version\": \"4.2.0.34\"}, {\"name\": \"opt-einsum\", \"version\": \"3.2.1\"}, {\"name\": \"packaging\", \"version\": \"20.4\"}, {\"name\": \"pandas\", \"version\": \"1.0.4\"}, {\"name\": \"pandas-datareader\", \"version\": \"0.8.1\"}, {\"name\": \"pandas-profiling\", \"version\": \"2.8.0\"}, {\"name\": \"pandocfilters\", \"version\": \"1.4.2\"}, {\"name\": \"parso\", \"version\": \"0.7.0\"}, {\"name\": \"patsy\", \"version\": \"0.5.1\"}, {\"name\": \"phik\", \"version\": \"0.10.0\"}, {\"name\": \"pickleshare\", \"version\": \"0.7.5\"}, {\"name\": \"Pillow\", \"version\": \"7.1.2\"}, {\"name\": \"pip\", \"version\": \"20.1.1\"}, {\"name\": \"plac\", \"version\": \"1.1.3\"}, {\"name\": \"plotly\", \"version\": \"4.8.1\"}, {\"name\": \"portpicker\", \"version\": \"1.2.0\"}, {\"name\": \"preshed\", \"version\": \"3.0.2\"}, {\"name\": \"prometheus-client\", \"version\": \"0.8.0\"}, {\"name\": \"prompt-toolkit\", \"version\": \"3.0.5\"}, {\"name\": \"protobuf\", \"version\": \"3.12.2\"}, {\"name\": \"pyactiveresource\", \"version\": \"2.2.1\"}, {\"name\": \"pyarrow\", \"version\": \"0.17.1\"}, {\"name\": \"pyasn1\", \"version\": \"0.4.8\"}, {\"name\": \"pyasn1-modules\", \"version\": \"0.2.8\"}, {\"name\": \"pydotplus\", \"version\": \"2.0.2\"}, {\"name\": \"Pygments\", \"version\": \"2.6.1\"}, {\"name\": \"pyparsing\", \"version\": \"2.4.7\"}, {\"name\": \"pyrsistent\", \"version\": \"0.16.0\"}, {\"name\": \"python-dateutil\", \"version\": \"2.8.1\"}, {\"name\": \"pytz\", \"version\": \"2020.1\"}, {\"name\": \"PyWavelets\", \"version\": \"1.1.1\"}, {\"name\": \"pywin32\", \"version\": \"227\"}, {\"name\": \"pywinpty\", \"version\": \"0.5.7\"}, {\"name\": \"PyYAML\", \"version\": \"3.13\"}, {\"name\": \"pyzmq\", \"version\": \"19.0.1\"}, {\"name\": \"regex\", \"version\": \"2020.6.8\"}, {\"name\": \"requests\", \"version\": \"2.23.0\"}, {\"name\": \"requests-oauthlib\", \"version\": \"1.3.0\"}, {\"name\": \"retrying\", \"version\": \"1.3.3\"}, {\"name\": \"rsa\", \"version\": \"4.2\"}, {\"name\": \"scikit-image\", \"version\": \"0.17.2\"}, {\"name\": \"scikit-learn\", \"version\": \"0.23.1\"}, {\"name\": \"scipy\", \"version\": \"1.4.1\"}, {\"name\": \"seaborn\", \"version\": \"0.10.1\"}, {\"name\": \"Send2Trash\", \"version\": \"1.5.0\"}, {\"name\": \"setuptools\", \"version\": \"41.0.0\"}, {\"name\": \"ShopifyAPI\", \"version\": \"8.0.1\"}, {\"name\": \"six\", \"version\": \"1.15.0\"}, {\"name\": \"spacy\", \"version\": \"2.2.4\"}, {\"name\": \"sqlparse\", \"version\": \"0.3.1\"}, {\"name\": \"srsly\", \"version\": \"1.0.2\"}, {\"name\": \"statsmodels\", \"version\": \"0.11.1\"}, {\"name\": \"style\", \"version\": \"1.1.0\"}, {\"name\": \"sweetviz\", \"version\": \"1.0a7\"}, {\"name\": \"tangled-up-in-unicode\", \"version\": \"0.0.6\"}, {\"name\": \"tensorboard\", \"version\": \"2.0.2\"}, {\"name\": \"tensorflow\", \"version\": \"2.0.0\"}, {\"name\": \"tensorflow-estimator\", \"version\": \"2.0.1\"}, {\"name\": \"termcolor\", \"version\": \"1.1.0\"}, {\"name\": \"terminado\", \"version\": \"0.8.3\"}, {\"name\": \"testpath\", \"version\": \"0.4.4\"}, {\"name\": \"thinc\", \"version\": \"7.4.0\"}, {\"name\": \"threadpoolctl\", \"version\": \"2.1.0\"}, {\"name\": \"thrift\", \"version\": \"0.13.0\"}, {\"name\": \"tifffile\", \"version\": \"2020.6.3\"}, {\"name\": \"tornado\", \"version\": \"6.0.4\"}, {\"name\": \"tqdm\", \"version\": \"4.46.1\"}, {\"name\": \"traitlets\", \"version\": \"4.3.3\"}, {\"name\": \"update\", \"version\": \"0.0.1\"}, {\"name\": \"uritools\", \"version\": \"3.0.0\"}, {\"name\": \"urlextract\", \"version\": \"0.14.0\"}, {\"name\": \"urllib3\", \"version\": \"1.24.3\"}, {\"name\": \"virtualenv\", \"version\": \"20.0.26\"}, {\"name\": \"visions\", \"version\": \"0.4.4\"}, {\"name\": \"voila\", \"version\": \"0.1.21\"}, {\"name\": \"wasabi\", \"version\": \"0.6.0\"}, {\"name\": \"wcwidth\", \"version\": \"0.2.4\"}, {\"name\": \"webencodings\", \"version\": \"0.5.1\"}, {\"name\": \"Werkzeug\", \"version\": \"1.0.1\"}, {\"name\": \"wget\", \"version\": \"3.2\"}, {\"name\": \"wheel\", \"version\": \"0.34.2\"}, {\"name\": \"widgetsnbextension\", \"version\": \"3.5.1\"}, {\"name\": \"wrapt\", \"version\": \"1.12.1\"}, {\"name\": \"WTForms\", \"version\": \"2.3.1\"}, {\"name\": \"xgboost\", \"version\": \"0.90\"}, {\"name\": \"xlrd\", \"version\": \"1.2.0\"}, {\"name\": \"zipp\", \"version\": \"3.1.0\"}]\n"
          ]
        }
      ],
      "execution_count": 12,
      "metadata": {
        "collapsed": true,
        "jupyter": {
          "source_hidden": false,
          "outputs_hidden": false
        },
        "nteract": {
          "transient": {
            "deleting": false
          }
        },
        "execution": {
          "iopub.status.busy": "2020-07-27T16:18:55.248Z",
          "iopub.execute_input": "2020-07-27T16:18:55.264Z",
          "iopub.status.idle": "2020-07-27T16:18:57.941Z",
          "shell.execute_reply": "2020-07-27T16:18:58.064Z"
        }
      }
    },
    {
      "cell_type": "code",
      "source": [
        "# Use freeze formatting\n",
        "!pip list --format=freeze"
      ],
      "outputs": [
        {
          "output_type": "stream",
          "name": "stdout",
          "text": [
            "absl-py==0.9.0\n",
            "appdirs==1.4.4\n",
            "asgiref==3.2.7\n",
            "astor==0.8.1\n",
            "astropy==4.0.1.post1\n",
            "async-generator==1.10\n",
            "attrs==19.3.0\n",
            "backcall==0.2.0\n",
            "bleach==3.1.5\n",
            "blis==0.4.1\n",
            "Brotli==1.0.7\n",
            "cachetools==4.1.0\n",
            "catalogue==1.0.0\n",
            "category-encoders==2.2.2\n",
            "certifi==2020.4.5.2\n",
            "cftime==1.1.3\n",
            "chardet==3.0.4\n",
            "chatterbot-corpus==1.2.0\n",
            "click==7.1.2\n",
            "colorama==0.4.3\n",
            "confuse==1.1.0\n",
            "cycler==0.10.0\n",
            "cymem==2.0.3\n",
            "dash==1.12.0\n",
            "dash-core-components==1.10.0\n",
            "dash-html-components==1.0.3\n",
            "dash-renderer==1.4.1\n",
            "dash-table==4.7.0\n",
            "decorator==4.4.2\n",
            "defusedxml==0.6.0\n",
            "distlib==0.3.1\n",
            "Django==3.0.7\n",
            "entrypoints==0.3\n",
            "filelock==3.0.12\n",
            "Flask==1.1.2\n",
            "Flask-Compress==1.5.0\n",
            "Flask-WTF==0.14.3\n",
            "future==0.18.2\n",
            "gast==0.2.2\n",
            "google-auth==1.17.1\n",
            "google-auth-oauthlib==0.4.1\n",
            "google-pasta==0.2.0\n",
            "graphviz==0.14\n",
            "grpcio==1.29.0\n",
            "h5py==2.10.0\n",
            "htmlmin==0.1.12\n",
            "idna==2.8\n",
            "ImageHash==4.1.0\n",
            "imageio==2.8.0\n",
            "importlib-metadata==1.6.1\n",
            "importlib-resources==2.0.1\n",
            "imutils==0.5.3\n",
            "ipykernel==5.3.0\n",
            "ipython==7.15.0\n",
            "ipython-genutils==0.2.0\n",
            "ipywidgets==7.5.1\n",
            "itsdangerous==1.1.0\n",
            "jedi==0.17.0\n",
            "Jinja2==2.11.2\n",
            "joblib==0.15.1\n",
            "json5==0.9.5\n",
            "jsonschema==3.2.0\n",
            "jupyter-client==6.1.3\n",
            "jupyter-core==4.6.3\n",
            "jupyter-server==0.1.1\n",
            "jupyterlab==2.2.0\n",
            "jupyterlab-pygments==0.1.1\n",
            "jupyterlab-server==1.1.5\n",
            "Keras==2.3.1\n",
            "Keras-Applications==1.0.8\n",
            "Keras-Preprocessing==1.1.2\n",
            "kiwisolver==1.2.0\n",
            "lightgbm==2.3.1\n",
            "llvmlite==0.33.0\n",
            "lxml==4.5.1\n",
            "Markdown==3.2.2\n",
            "MarkupSafe==1.1.1\n",
            "matplotlib==3.2.1\n",
            "missingno==0.4.2\n",
            "mistune==0.8.4\n",
            "murmurhash==1.0.2\n",
            "mysql==0.0.2\n",
            "mysql-connector-python==8.0.21\n",
            "mysqlclient==1.4.6\n",
            "nbconvert==5.6.1\n",
            "nbformat==5.0.7\n",
            "netCDF4==1.5.3\n",
            "networkx==2.4\n",
            "nltk==3.5\n",
            "notebook==6.0.3\n",
            "numba==0.50.0\n",
            "numexpr==2.7.1\n",
            "numpy==1.19.1\n",
            "oauthlib==3.1.0\n",
            "opencv-python==4.2.0.34\n",
            "opt-einsum==3.2.1\n",
            "packaging==20.4\n",
            "pandas==1.0.4\n",
            "pandas-datareader==0.8.1\n",
            "pandas-profiling==2.8.0\n",
            "pandocfilters==1.4.2\n",
            "parso==0.7.0\n",
            "patsy==0.5.1\n",
            "phik==0.10.0\n",
            "pickleshare==0.7.5\n",
            "Pillow==7.1.2\n",
            "pip==20.1.1\n",
            "plac==1.1.3\n",
            "plotly==4.8.1\n",
            "portpicker==1.2.0\n",
            "preshed==3.0.2\n",
            "prometheus-client==0.8.0\n",
            "prompt-toolkit==3.0.5\n",
            "protobuf==3.12.2\n",
            "pyactiveresource==2.2.1\n",
            "pyarrow==0.17.1\n",
            "pyasn1==0.4.8\n",
            "pyasn1-modules==0.2.8\n",
            "pydotplus==2.0.2\n",
            "Pygments==2.6.1\n",
            "pyparsing==2.4.7\n",
            "pyrsistent==0.16.0\n",
            "python-dateutil==2.8.1\n",
            "pytz==2020.1\n",
            "PyWavelets==1.1.1\n",
            "pywin32==227\n",
            "pywinpty==0.5.7\n",
            "PyYAML==3.13\n",
            "pyzmq==19.0.1\n",
            "regex==2020.6.8\n",
            "requests==2.23.0\n",
            "requests-oauthlib==1.3.0\n",
            "retrying==1.3.3\n",
            "rsa==4.2\n",
            "scikit-image==0.17.2\n",
            "scikit-learn==0.23.1\n",
            "scipy==1.4.1\n",
            "seaborn==0.10.1\n",
            "Send2Trash==1.5.0\n",
            "setuptools==41.0.0\n",
            "ShopifyAPI==8.0.1\n",
            "six==1.15.0\n",
            "spacy==2.2.4\n",
            "sqlparse==0.3.1\n",
            "srsly==1.0.2\n",
            "statsmodels==0.11.1\n",
            "style==1.1.0\n",
            "sweetviz==1.0a7\n",
            "tangled-up-in-unicode==0.0.6\n",
            "tensorboard==2.0.2\n",
            "tensorflow==2.0.0\n",
            "tensorflow-estimator==2.0.1\n",
            "termcolor==1.1.0\n",
            "terminado==0.8.3\n",
            "testpath==0.4.4\n",
            "thinc==7.4.0\n",
            "threadpoolctl==2.1.0\n",
            "thrift==0.13.0\n",
            "tifffile==2020.6.3\n",
            "tornado==6.0.4\n",
            "tqdm==4.46.1\n",
            "traitlets==4.3.3\n",
            "update==0.0.1\n",
            "uritools==3.0.0\n",
            "urlextract==0.14.0\n",
            "urllib3==1.24.3\n",
            "virtualenv==20.0.26\n",
            "visions==0.4.4\n",
            "voila==0.1.21\n",
            "wasabi==0.6.0\n",
            "wcwidth==0.2.4\n",
            "webencodings==0.5.1\n",
            "Werkzeug==1.0.1\n",
            "wget==3.2\n",
            "wheel==0.34.2\n",
            "widgetsnbextension==3.5.1\n",
            "wrapt==1.12.1\n",
            "WTForms==2.3.1\n",
            "xgboost==0.90\n",
            "xlrd==1.2.0\n",
            "zipp==3.1.0\n"
          ]
        }
      ],
      "execution_count": 13,
      "metadata": {
        "collapsed": true,
        "jupyter": {
          "source_hidden": false,
          "outputs_hidden": false
        },
        "nteract": {
          "transient": {
            "deleting": false
          }
        },
        "execution": {
          "iopub.status.busy": "2020-07-27T16:19:39.742Z",
          "iopub.execute_input": "2020-07-27T16:19:39.753Z",
          "iopub.status.idle": "2020-07-27T16:19:41.937Z",
          "shell.execute_reply": "2020-07-27T16:19:41.950Z"
        }
      }
    },
    {
      "cell_type": "code",
      "source": [
        "# Use legacy formatting\n",
        "!pip list --format=columns"
      ],
      "outputs": [
        {
          "output_type": "stream",
          "name": "stdout",
          "text": [
            "Package                Version\n",
            "---------------------- -----------\n",
            "absl-py                0.9.0\n",
            "appdirs                1.4.4\n",
            "asgiref                3.2.7\n",
            "astor                  0.8.1\n",
            "astropy                4.0.1.post1\n",
            "async-generator        1.10\n",
            "attrs                  19.3.0\n",
            "backcall               0.2.0\n",
            "bleach                 3.1.5\n",
            "blis                   0.4.1\n",
            "Brotli                 1.0.7\n",
            "cachetools             4.1.0\n",
            "catalogue              1.0.0\n",
            "category-encoders      2.2.2\n",
            "certifi                2020.4.5.2\n",
            "cftime                 1.1.3\n",
            "chardet                3.0.4\n",
            "chatterbot-corpus      1.2.0\n",
            "click                  7.1.2\n",
            "colorama               0.4.3\n",
            "confuse                1.1.0\n",
            "cycler                 0.10.0\n",
            "cymem                  2.0.3\n",
            "dash                   1.12.0\n",
            "dash-core-components   1.10.0\n",
            "dash-html-components   1.0.3\n",
            "dash-renderer          1.4.1\n",
            "dash-table             4.7.0\n",
            "decorator              4.4.2\n",
            "defusedxml             0.6.0\n",
            "distlib                0.3.1\n",
            "Django                 3.0.7\n",
            "entrypoints            0.3\n",
            "filelock               3.0.12\n",
            "Flask                  1.1.2\n",
            "Flask-Compress         1.5.0\n",
            "Flask-WTF              0.14.3\n",
            "future                 0.18.2\n",
            "gast                   0.2.2\n",
            "google-auth            1.17.1\n",
            "google-auth-oauthlib   0.4.1\n",
            "google-pasta           0.2.0\n",
            "graphviz               0.14\n",
            "grpcio                 1.29.0\n",
            "h5py                   2.10.0\n",
            "htmlmin                0.1.12\n",
            "idna                   2.8\n",
            "ImageHash              4.1.0\n",
            "imageio                2.8.0\n",
            "importlib-metadata     1.6.1\n",
            "importlib-resources    2.0.1\n",
            "imutils                0.5.3\n",
            "ipykernel              5.3.0\n",
            "ipython                7.15.0\n",
            "ipython-genutils       0.2.0\n",
            "ipywidgets             7.5.1\n",
            "itsdangerous           1.1.0\n",
            "jedi                   0.17.0\n",
            "Jinja2                 2.11.2\n",
            "joblib                 0.15.1\n",
            "json5                  0.9.5\n",
            "jsonschema             3.2.0\n",
            "jupyter-client         6.1.3\n",
            "jupyter-core           4.6.3\n",
            "jupyter-server         0.1.1\n",
            "jupyterlab             2.2.0\n",
            "jupyterlab-pygments    0.1.1\n",
            "jupyterlab-server      1.1.5\n",
            "Keras                  2.3.1\n",
            "Keras-Applications     1.0.8\n",
            "Keras-Preprocessing    1.1.2\n",
            "kiwisolver             1.2.0\n",
            "lightgbm               2.3.1\n",
            "llvmlite               0.33.0\n",
            "lxml                   4.5.1\n",
            "Markdown               3.2.2\n",
            "MarkupSafe             1.1.1\n",
            "matplotlib             3.2.1\n",
            "missingno              0.4.2\n",
            "mistune                0.8.4\n",
            "murmurhash             1.0.2\n",
            "mysql                  0.0.2\n",
            "mysql-connector-python 8.0.21\n",
            "mysqlclient            1.4.6\n",
            "nbconvert              5.6.1\n",
            "nbformat               5.0.7\n",
            "netCDF4                1.5.3\n",
            "networkx               2.4\n",
            "nltk                   3.5\n",
            "notebook               6.0.3\n",
            "numba                  0.50.0\n",
            "numexpr                2.7.1\n",
            "numpy                  1.19.1\n",
            "oauthlib               3.1.0\n",
            "opencv-python          4.2.0.34\n",
            "opt-einsum             3.2.1\n",
            "packaging              20.4\n",
            "pandas                 1.0.4\n",
            "pandas-datareader      0.8.1\n",
            "pandas-profiling       2.8.0\n",
            "pandocfilters          1.4.2\n",
            "parso                  0.7.0\n",
            "patsy                  0.5.1\n",
            "phik                   0.10.0\n",
            "pickleshare            0.7.5\n",
            "Pillow                 7.1.2\n",
            "pip                    20.1.1\n",
            "plac                   1.1.3\n",
            "plotly                 4.8.1\n",
            "portpicker             1.2.0\n",
            "preshed                3.0.2\n",
            "prometheus-client      0.8.0\n",
            "prompt-toolkit         3.0.5\n",
            "protobuf               3.12.2\n",
            "pyactiveresource       2.2.1\n",
            "pyarrow                0.17.1\n",
            "pyasn1                 0.4.8\n",
            "pyasn1-modules         0.2.8\n",
            "pydotplus              2.0.2\n",
            "Pygments               2.6.1\n",
            "pyparsing              2.4.7\n",
            "pyrsistent             0.16.0\n",
            "python-dateutil        2.8.1\n",
            "pytz                   2020.1\n",
            "PyWavelets             1.1.1\n",
            "pywin32                227\n",
            "pywinpty               0.5.7\n",
            "PyYAML                 3.13\n",
            "pyzmq                  19.0.1\n",
            "regex                  2020.6.8\n",
            "requests               2.23.0\n",
            "requests-oauthlib      1.3.0\n",
            "retrying               1.3.3\n",
            "rsa                    4.2\n",
            "scikit-image           0.17.2\n",
            "scikit-learn           0.23.1\n",
            "scipy                  1.4.1\n",
            "seaborn                0.10.1\n",
            "Send2Trash             1.5.0\n",
            "setuptools             41.0.0\n",
            "ShopifyAPI             8.0.1\n",
            "six                    1.15.0\n",
            "spacy                  2.2.4\n",
            "sqlparse               0.3.1\n",
            "srsly                  1.0.2\n",
            "statsmodels            0.11.1\n",
            "style                  1.1.0\n",
            "sweetviz               1.0a7\n",
            "tangled-up-in-unicode  0.0.6\n",
            "tensorboard            2.0.2\n",
            "tensorflow             2.0.0\n",
            "tensorflow-estimator   2.0.1\n",
            "termcolor              1.1.0\n",
            "terminado              0.8.3\n",
            "testpath               0.4.4\n",
            "thinc                  7.4.0\n",
            "threadpoolctl          2.1.0\n",
            "thrift                 0.13.0\n",
            "tifffile               2020.6.3\n",
            "tornado                6.0.4\n",
            "tqdm                   4.46.1\n",
            "traitlets              4.3.3\n",
            "update                 0.0.1\n",
            "uritools               3.0.0\n",
            "urlextract             0.14.0\n",
            "urllib3                1.24.3\n",
            "virtualenv             20.0.26\n",
            "visions                0.4.4\n",
            "voila                  0.1.21\n",
            "wasabi                 0.6.0\n",
            "wcwidth                0.2.4\n",
            "webencodings           0.5.1\n",
            "Werkzeug               1.0.1\n",
            "wget                   3.2\n",
            "wheel                  0.34.2\n",
            "widgetsnbextension     3.5.1\n",
            "wrapt                  1.12.1\n",
            "WTForms                2.3.1\n",
            "xgboost                0.90\n",
            "xlrd                   1.2.0\n",
            "zipp                   3.1.0\n"
          ]
        }
      ],
      "execution_count": 15,
      "metadata": {
        "collapsed": true,
        "jupyter": {
          "source_hidden": false,
          "outputs_hidden": false
        },
        "nteract": {
          "transient": {
            "deleting": false
          }
        },
        "execution": {
          "iopub.status.busy": "2020-07-27T16:22:15.865Z",
          "iopub.execute_input": "2020-07-27T16:22:15.882Z",
          "iopub.status.idle": "2020-07-27T16:22:19.284Z",
          "shell.execute_reply": "2020-07-27T16:22:19.332Z"
        }
      }
    },
    {
      "cell_type": "code",
      "source": [
        "import this"
      ],
      "outputs": [
        {
          "output_type": "stream",
          "name": "stdout",
          "text": [
            "The Zen of Python, by Tim Peters\n",
            "\n",
            "Beautiful is better than ugly.\n",
            "Explicit is better than implicit.\n",
            "Simple is better than complex.\n",
            "Complex is better than complicated.\n",
            "Flat is better than nested.\n",
            "Sparse is better than dense.\n",
            "Readability counts.\n",
            "Special cases aren't special enough to break the rules.\n",
            "Although practicality beats purity.\n",
            "Errors should never pass silently.\n",
            "Unless explicitly silenced.\n",
            "In the face of ambiguity, refuse the temptation to guess.\n",
            "There should be one-- and preferably only one --obvious way to do it.\n",
            "Although that way may not be obvious at first unless you're Dutch.\n",
            "Now is better than never.\n",
            "Although never is often better than *right* now.\n",
            "If the implementation is hard to explain, it's a bad idea.\n",
            "If the implementation is easy to explain, it may be a good idea.\n",
            "Namespaces are one honking great idea -- let's do more of those!\n"
          ]
        }
      ],
      "execution_count": 16,
      "metadata": {
        "collapsed": true,
        "jupyter": {
          "source_hidden": false,
          "outputs_hidden": false
        },
        "nteract": {
          "transient": {
            "deleting": false
          }
        },
        "execution": {
          "iopub.status.busy": "2020-07-27T16:23:52.980Z",
          "iopub.execute_input": "2020-07-27T16:23:52.997Z",
          "iopub.status.idle": "2020-07-27T16:23:53.066Z",
          "shell.execute_reply": "2020-07-27T16:23:53.099Z"
        }
      }
    },
    {
      "cell_type": "code",
      "source": [
        "## Show information about a package\n",
        "\n",
        "!pip show numpy"
      ],
      "outputs": [
        {
          "output_type": "stream",
          "name": "stdout",
          "text": [
            "Name: numpy\n",
            "Version: 1.19.1\n",
            "Summary: NumPy is the fundamental package for array computing with Python.\n",
            "Home-page: https://www.numpy.org\n",
            "Author: Travis E. Oliphant et al.\n",
            "Author-email: None\n",
            "License: BSD\n",
            "Location: c:\\users\\reddy\\appdata\\local\\programs\\python\\python36\\lib\\site-packages\n",
            "Requires: \n",
            "Required-by: xgboost, visions, tifffile, thinc, tensorflow, tensorboard, sweetviz, statsmodels, spacy, seaborn, scipy, scikit-learn, scikit-image, PyWavelets, pyarrow, phik, patsy, pandas, pandas-profiling, opt-einsum, opencv-python, numexpr, numba, netCDF4, missingno, matplotlib, lightgbm, Keras, Keras-Preprocessing, Keras-Applications, imageio, ImageHash, h5py, cftime, category-encoders, blis, astropy\n"
          ]
        }
      ],
      "execution_count": 18,
      "metadata": {
        "collapsed": true,
        "jupyter": {
          "source_hidden": false,
          "outputs_hidden": false
        },
        "nteract": {
          "transient": {
            "deleting": false
          }
        },
        "execution": {
          "iopub.status.busy": "2020-07-27T16:24:47.476Z",
          "iopub.execute_input": "2020-07-27T16:24:47.485Z",
          "iopub.status.idle": "2020-07-27T16:24:52.742Z",
          "shell.execute_reply": "2020-07-27T16:24:52.759Z"
        }
      }
    },
    {
      "cell_type": "code",
      "source": [
        "### Show all information about a package\n",
        "!pip show --verbose numpy"
      ],
      "outputs": [
        {
          "output_type": "stream",
          "name": "stdout",
          "text": [
            "Name: numpy\n",
            "Version: 1.19.1\n",
            "Summary: NumPy is the fundamental package for array computing with Python.\n",
            "Home-page: https://www.numpy.org\n",
            "Author: Travis E. Oliphant et al.\n",
            "Author-email: None\n",
            "License: BSD\n",
            "Location: c:\\users\\reddy\\appdata\\local\\programs\\python\\python36\\lib\\site-packages\n",
            "Requires: \n",
            "Required-by: xgboost, visions, tifffile, thinc, tensorflow, tensorboard, sweetviz, statsmodels, spacy, seaborn, scipy, scikit-learn, scikit-image, PyWavelets, pyarrow, phik, patsy, pandas, pandas-profiling, opt-einsum, opencv-python, numexpr, numba, netCDF4, missingno, matplotlib, lightgbm, Keras, Keras-Preprocessing, Keras-Applications, imageio, ImageHash, h5py, cftime, category-encoders, blis, astropy\n",
            "Metadata-Version: 2.1\n",
            "Installer: pip\n",
            "Classifiers:\n",
            "  Development Status :: 5 - Production/Stable\n",
            "  Intended Audience :: Science/Research\n",
            "  Intended Audience :: Developers\n",
            "  License :: OSI Approved\n",
            "  Programming Language :: C\n",
            "  Programming Language :: Python\n",
            "  Programming Language :: Python :: 3\n",
            "  Programming Language :: Python :: 3.6\n",
            "  Programming Language :: Python :: 3.7\n",
            "  Programming Language :: Python :: 3.8\n",
            "  Programming Language :: Python :: 3 :: Only\n",
            "  Programming Language :: Python :: Implementation :: CPython\n",
            "  Topic :: Software Development\n",
            "  Topic :: Scientific/Engineering\n",
            "  Operating System :: Microsoft :: Windows\n",
            "  Operating System :: POSIX\n",
            "  Operating System :: Unix\n",
            "  Operating System :: MacOS\n",
            "Entry-points:\n",
            "  [console_scripts]\n",
            "  f2py = numpy.f2py.f2py2e:main\n"
          ]
        }
      ],
      "execution_count": 19,
      "metadata": {
        "collapsed": true,
        "jupyter": {
          "source_hidden": false,
          "outputs_hidden": false
        },
        "nteract": {
          "transient": {
            "deleting": false
          }
        },
        "execution": {
          "iopub.status.busy": "2020-07-27T16:27:00.201Z",
          "iopub.execute_input": "2020-07-27T16:27:00.214Z",
          "iopub.status.idle": "2020-07-27T16:27:03.690Z",
          "shell.execute_reply": "2020-07-27T16:27:03.715Z"
        }
      }
    },
    {
      "cell_type": "code",
      "source": [
        "## Search for “peppercorn”\n",
        "\n",
        "!pip search numpy"
      ],
      "outputs": [
        {
          "output_type": "stream",
          "name": "stdout",
          "text": [
            "numpy (1.19.1)                            - NumPy is the fundamental package for array computing with Python.\n",
            "  INSTALLED: 1.19.1 (latest)\n",
            "numpy-cloud (0.0.5)                       - Numpy in the cloud\n",
            "numpy-ext (0.9.3)                         - numpy extension\n",
            "numpy-alignments (0.0.2)                  - Numpy Alignments\n",
            "numpy-utils (0.1.6)                       - NumPy utilities.\n",
            "numpy-demo (1.23.0)                       - NumPy-demo is a test package and is a clone of numpy.\n",
            "numpy-sugar (1.5.1)                       - Missing NumPy functionalities\n",
            "numpy-turtle (0.2)                        - Turtle graphics with NumPy\n",
            "marshmallow-numpy (0.2.0)                 - Marshmallow numpy field\n",
            "numpy-ml (0.1.2)                          - Machine learning in NumPy\n",
            "numpy-linreg (0.1.0)                      - Linear Regression with numpy only.\n",
            "root-numpy (4.8.0)                        - The interface between ROOT and NumPy\n",
            "mapchete-numpy (0.1)                      - Mapchete NumPy read/write extension\n",
            "numpy-partition (1.18.9)                  - SQL PARTITION BY and window functions for NumPy\n",
            "numpy-quaternion (2020.5.19.15.27.24)     - Add built-in support for quaternions to numpy\n",
            "sqlite-numpy (0.2.1)                      - Fast SQLite to numpy array loader\n",
            "msgpack-numpy (0.4.6.post0)               - Numpy data serialization using msgpack\n",
            "intel-numpy (1.15.1)                      - NumPy optimized with Intel(R) MKL library\n",
            "numpy-aarch64 (1.16.4)                    - NumPy is the fundamental package for array computing with Python.\n",
            "numpy-mips64 (1.17.4)                     - NumPy is the fundamental package for array computing with Python.\n",
            "numpy-posit (1.15.2.0.0.1.dev2)           - posit (unum type III) integrated NumPy.\n",
            "numpy-syncer (0.0.1)                      - Manage a Numpy data structure using Peewee-Sync\n",
            "ccv-numpy (0.0.3)                         - Wrapper module for ccv using numpy arrays interface\n",
            "numpy-unit (0.1.1)                        - A package providing an unit system for numpy multidimensionnal arrays.\n",
            "numpy-mkp2020 (1.14.5)                    - NumPy: array processing for numbers, strings, records, and objects.\n",
            "numpy-nn (0.2.6)                          - Numpy NN is a Deep Neural Network Package which is built on base Numpy operations. This project is under development and any contributions are welcome.\n",
            "nn-numpy (0.0.1)                          - A package which contains a simple implementation of neural network with numpy\n",
            "BSON-NumPy (0.1)                          - Module for converting directly from BSON to NumPy ndarrays and vice versa\n",
            "django-numpy (1.0.1)                      - Application for Django projects that adds some utilities and integration tools with Numpy.\n",
            "dicom-numpy (0.4.0)                       - Extract image data into a 3D numpy array from a set of DICOM files.\n",
            "dl-with-numpy (0.0.3)                     - Simple deep learning with numpy\n",
            "numpy-html (0.1.3)                        - A simple table renderer for numpy arrays. Provides a rich display hook for use with Jupyter Lab / Notebook.\n",
            "numpy-indexed (0.3.5)                     - This package contains functionality for indexed operations on numpy ndarrays, providing efficient vectorized functionality such as grouping and set operations.\n",
            "circular-buffer-numpy (0.0.8)             - Package for circular buffer numpy array\n",
            "build-requires-numpy (2019.12.2)          - Meta-package to install older versions of Numpy.\n",
            "image-to-numpy (1.0.0)                    - Load an image into a numpy array with proper Exif orientation handling\n",
            "oldest-supported-numpy (0.3)              - Meta-package that provides the oldest Numpy for given Python version and platform\n",
            "numpy-image-widget (2020.7.21)            - An easy-to-use Jupyter widget for displaying images from Numpy data arrays\n",
            "django-numpy-json-encoder (0.1.3)         - Django JSON encoder with numpy support.\n",
            "numpy-camera (0.0.2)                      - ???\n",
            "numpy-financial (1.0.0)                   - Simple financial functions\n",
            "hypothesis-numpy (2.0.0)                  - Adds support for generating datetime to Hypothesis\n",
            "numpy-groupies (0.9.10)                   - Optimised tools for group-indexing operations: aggregated sum and more.\n",
            "deuces-numpy (0.5)                        - \n",
            "numpy-fracadf (0.4.0)                     - Determine fractal order by the ADF test\n",
            "faster-numpy (0.1.2)                      - \n",
            "numpy-fracdiff (0.3.1)                    - Fractional Difference for Time Series\n",
            "numpy-stl (2.11.2)                        - Library to make reading, writing and modifying both binary and ascii STL files easy.\n",
            "test-numpy-setuptools (1.4)               - test_numpy_setuptools backpack\n",
            "numpy-reduced-flowcytometrytools (0.5.0)  - A python package for performing flow cytometry analysis\n",
            "zen-of-numpy (0.1)                        - \n",
            "test-numpy-compile-pyd (1.0)              - test_numpy_compile_pyd backpack\n",
            "o243kgmvs924mtvd034mg (0.01)              - NumPy Testing\n",
            "gumpy (0.1)                               - Genetics with Numpy\n",
            "npplus (0.9.8)                            - Enhancements to Numpy\n",
            "np (1.0.2)                                - np = numpy++: numpy with added convenience functionality\n",
            "ndarray (pre-alpha)                       - Tools for numpy ndarray\n",
            "vidsrc (2020.1.1)                         - Video Frameserver for Numpy\n",
            "numpyro (0.2.4)                           - Pyro PPL on NumPy\n",
            "wrapnumpy3 (0.0.3)                        - Wrapper of Numpy in Python3.\n",
            "flyingcircus-numeric (0.1.1.2)            - FlyingCircus with NumPy/SciPy.\n",
            "nptweak (0.1.0)                           - utility functions for numpy\n",
            "ktnumpy (0.1.4)                           - Kotlin bindings for Numpy\n",
            "match-arrays (0.0.1)                      - Matching of Numpy arrays\n",
            "numpyXtns (20.4.1)                        - Numpy extension functions.\n",
            "numpoly (1.0.5)                           - Polynomials as a numpy datatype\n",
            "nptyping (1.3.0)                          - Type hints for Numpy.\n",
            "oldnumeric (1.0.4)                        - The oldnumeric numpy package\n",
            "nets (0.0.2)                              - Neural Network with NumPy.\n",
            "transforms-for-ndarray (0.0.4)            - transformations for numpy ndarray.\n",
            "jumpy (0.2.4)                             - Numpy and nd4j interop\n",
            "maskedarray (0.1)                         - NumPy Masked Array\n",
            "opt-einsum (3.3.0)                        - Optimizing numpys einsum function\n",
            "  INSTALLED: 3.2.1\n",
            "  LATEST:    3.3.0\n",
            "displayarray (1.2.1)                      - Tool for displaying numpy arrays.\n",
            "fewerbytes (0.0.1)                        - Compression techniques for numpy arrays\n",
            "numpy_ringbuffer (0.2.1)                  - Ring buffer implementation for numpy\n",
            "ntype (0.0.1)                             - Type Handler using NumPy\n",
            "fastfunc (0.2.3)                          - Fast numpy ufunc operations\n",
            "pyjet (1.6.0)                             - The interface between FastJet and NumPy\n",
            "snuggs (1.4.7)                            - Snuggs are s-expressions for Numpy\n",
            "bohrium (0.11.0.post54)                   - Bohrium Python/NumPy Backend\n",
            "array_collections (0.1.9)                 - A collection of numpy ndarray subclasses.\n",
            "pyache (0.1.0)                            - A simple numpy caching library\n",
            "rollingrank (0.3.1)                       - fast rolling rank for numpy\n",
            "nppretty (1.0.0)                          - Pretty printer for numpy arrays.\n",
            "numpythia (1.1.0)                         - The interface between PYTHIA and NumPy\n",
            "sompy (0.1.1)                             - Numpy based SOM Library\n",
            "spartan (0.06)                            - Distributed Numpy-like arrays.\n",
            "npdoc (1.0.1)                             - In-notebook NumPy man pages\n",
            "sampyl-mcmc (0.3)                         - MCMC Samplers in Python & Numpy\n",
            "numm (0.3)                                - numpy-based multimedia library\n",
            "gnuplotlib (0.33)                         - Gnuplot-based plotting for numpy\n",
            "multipolyfit (0.0.1)                      - Multivariate Polynomial fitting with NumPy\n",
            "degas (0.1.4)                             - Fluent interface for numpy arrays.\n",
            "PyUblas (2017.1)                          - Seamless Numpy-UBlas interoperability\n",
            "pygeos (0.7.1)                            - GEOS wrapped in numpy ufuncs\n",
            "permanent (2.0.0)                         - Calculates the permanent of a Numpy matrix\n",
            "pstar (0.1.9)                             - pstar: numpy for arbitrary data\n",
            "wendelin.core (0.13)                      - Out-of-core NumPy arrays\n",
            "homog (0.1.14)                            - Utilities for Homogeneous Coordinates with Numpy\n"
          ]
        }
      ],
      "execution_count": 21,
      "metadata": {
        "collapsed": true,
        "jupyter": {
          "source_hidden": false,
          "outputs_hidden": false
        },
        "nteract": {
          "transient": {
            "deleting": false
          }
        },
        "execution": {
          "iopub.status.busy": "2020-07-27T16:30:05.740Z",
          "iopub.execute_input": "2020-07-27T16:30:05.757Z",
          "iopub.status.idle": "2020-07-27T16:30:07.905Z",
          "shell.execute_reply": "2020-07-27T16:30:07.926Z"
        }
      }
    },
    {
      "cell_type": "code",
      "source": [
        "!pip search peppercorn"
      ],
      "outputs": [
        {
          "output_type": "stream",
          "name": "stdout",
          "text": [
            "peppercorn (0.6)      - A library for converting a token stream into a data structure for use in web form posts\n",
            "pepperedform (0.6.1)  - Helpers for using peppercorn with formprocess.\n"
          ]
        }
      ],
      "execution_count": 22,
      "metadata": {
        "collapsed": true,
        "jupyter": {
          "source_hidden": false,
          "outputs_hidden": false
        },
        "nteract": {
          "transient": {
            "deleting": false
          }
        },
        "execution": {
          "iopub.status.busy": "2020-07-27T16:30:43.790Z",
          "iopub.execute_input": "2020-07-27T16:30:43.802Z",
          "iopub.status.idle": "2020-07-27T16:30:46.380Z",
          "shell.execute_reply": "2020-07-27T16:30:46.393Z"
        }
      }
    },
    {
      "cell_type": "code",
      "source": [],
      "outputs": [],
      "execution_count": null,
      "metadata": {
        "collapsed": true,
        "jupyter": {
          "source_hidden": false,
          "outputs_hidden": false
        },
        "nteract": {
          "transient": {
            "deleting": false
          }
        }
      }
    }
  ],
  "metadata": {
    "kernel_info": {
      "name": "python3"
    },
    "language_info": {
      "name": "python",
      "version": "3.6.8",
      "mimetype": "text/x-python",
      "codemirror_mode": {
        "name": "ipython",
        "version": 3
      },
      "pygments_lexer": "ipython3",
      "nbconvert_exporter": "python",
      "file_extension": ".py"
    },
    "kernelspec": {
      "argv": [
        "python",
        "-m",
        "ipykernel_launcher",
        "-f",
        "{connection_file}"
      ],
      "display_name": "Python 3",
      "language": "python",
      "name": "python3"
    },
    "nteract": {
      "version": "0.24.0"
    }
  },
  "nbformat": 4,
  "nbformat_minor": 0
}