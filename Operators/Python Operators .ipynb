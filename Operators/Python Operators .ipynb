{
  "cells": [
    {
      "cell_type": "markdown",
      "source": [
        "# Python Operators\n",
        "\n",
        "Operators are used to perform operations on variables and values.\n",
        "\n",
        "                                    Python divides the operators in the following groups:\n",
        "                                            1. Arithmetic operators\n",
        "                                            2. Assignment operators\n",
        "                                            3. Comparison operators\n",
        "                                            4. Logical operators\n",
        "                                            5. Identity operators\n",
        "                                            6. Membership operators\n",
        "                                            7. Bitwise operators\n"
      ],
      "metadata": {}
    },
    {
      "cell_type": "markdown",
      "source": [
        "# Arithmetic Operators\n",
        "Arithmetic operators are used with numeric values to perform common mathematical operations:\n",
        "\n",
        "\n",
        "| Operator | Name                | Example |\n",
        "|----------|---------------------| --------|\n",
        "| +        |Addition             |  x + y  |\n",
        "| -        |Subtraction          |  x - y  |\n",
        "| *        |Multiplication       |  x * y  |\n",
        "| /        |Division             |  x / y  |\n",
        "| %        |Modulus              |  x % y  |\n",
        "| **       |Exponentiation       |  x ** y |\n",
        "| //       |Floor division       |  x // y |\n"
      ],
      "metadata": {}
    },
    {
      "cell_type": "code",
      "source": [
        "# Addtion of two numbers\n",
        "x = 2\n",
        "y = 3\n",
        "z = x+y\n",
        "print(\"Addition  of two numbers\", +z)"
      ],
      "outputs": [
        {
          "output_type": "stream",
          "name": "stdout",
          "text": [
            "Addition  of two numbers 5\n"
          ]
        }
      ],
      "execution_count": 1,
      "metadata": {}
    },
    {
      "cell_type": "code",
      "source": [
        "# Subtraction of two numbers\n",
        "x = 2\n",
        "y = 3\n",
        "z = x-y\n",
        "print(\"Subtraction  of two numbers\", +z)"
      ],
      "outputs": [
        {
          "output_type": "stream",
          "name": "stdout",
          "text": [
            "Subtraction  of two numbers -1\n"
          ]
        }
      ],
      "execution_count": 4,
      "metadata": {}
    },
    {
      "cell_type": "code",
      "source": [
        "# Multiplication  of two numbers\n",
        "x = 2\n",
        "y = 3\n",
        "z = x*y\n",
        "print(\"Multiplication of two numbers\", +z)"
      ],
      "outputs": [
        {
          "output_type": "stream",
          "name": "stdout",
          "text": [
            "Multiplication Subtraction  of two numbers 6\n"
          ]
        }
      ],
      "execution_count": 5,
      "metadata": {}
    },
    {
      "cell_type": "code",
      "source": [
        "# Division of two numbers\n",
        "x = 12\n",
        "y = 3\n",
        "z = x/y\n",
        "print(\"Division Subtraction  of two numbers\", +z)"
      ],
      "outputs": [
        {
          "output_type": "stream",
          "name": "stdout",
          "text": [
            "Division Subtraction  of two numbers 4.0\n"
          ]
        }
      ],
      "execution_count": 5,
      "metadata": {}
    },
    {
      "cell_type": "code",
      "source": [
        "# Floor Division of two numbers\n",
        "x = 12\n",
        "y = 3\n",
        "z = x//y\n",
        "print(\"Floor Division of two numbers\", +z)"
      ],
      "outputs": [
        {
          "output_type": "stream",
          "name": "stdout",
          "text": [
            "Floor Division of two numbers 4\n"
          ]
        }
      ],
      "execution_count": 6,
      "metadata": {}
    },
    {
      "cell_type": "code",
      "source": [
        "# Modulus of two numbers\n",
        "x=2\n",
        "y=20\n",
        "print(\"Modulus of two numbers:\", x%y)"
      ],
      "outputs": [
        {
          "output_type": "stream",
          "name": "stdout",
          "text": [
            "Modulus of two numbers: 2\n"
          ]
        }
      ],
      "execution_count": 8,
      "metadata": {}
    },
    {
      "cell_type": "code",
      "source": [
        "# Exponentiation of two numbers\n",
        "x=2\n",
        "y=2\n",
        "print(\"Exponentiation of two numbers:\", x**y)"
      ],
      "outputs": [
        {
          "output_type": "stream",
          "name": "stdout",
          "text": [
            "Exponentiation of two numbers: 4\n"
          ]
        }
      ],
      "execution_count": 10,
      "metadata": {}
    },
    {
      "cell_type": "markdown",
      "source": [
        "# Assignment Operators\n",
        "Assignment operators are used to assign values to variables:\n",
        "\n",
        "|Operator|Example|Try it|\n",
        "|-------|--------|------|\n",
        "|=|\tx = 5|\tx = 5\t\n",
        "|+=|x += 3|\tx = x + 3\t\n",
        "|-=\t|x -= 3|\tx = x - 3\t\n",
        "|*=\t|x *= 3\t|x = x * 3\t\n",
        "|/=\t|x /= 3\t|x = x / 3\t\n",
        "|%=\t|x %= 3\t|x = x % 3\t\n",
        "|//=|\tx //= 3|\tx = x // 3\t\n",
        "|**=|\tx **= 3\t|x = x ** 3\t\n"
      ],
      "metadata": {
        "nteract": {
          "transient": {
            "deleting": false
          }
        }
      }
    },
    {
      "cell_type": "code",
      "source": [
        "# asigne\n",
        "a=2\n",
        "print(a)"
      ],
      "outputs": [
        {
          "output_type": "stream",
          "name": "stdout",
          "text": [
            "2\n"
          ]
        }
      ],
      "execution_count": 11,
      "metadata": {}
    },
    {
      "cell_type": "code",
      "source": [
        "# add of AND\n",
        "p=2\n",
        "f=1\n",
        "p+=f\n",
        "f+=5\n",
        "print(f)\n",
        "print(p)"
      ],
      "outputs": [
        {
          "output_type": "stream",
          "name": "stdout",
          "text": [
            "6\n",
            "3\n"
          ]
        }
      ],
      "execution_count": 3,
      "metadata": {}
    },
    {
      "cell_type": "code",
      "source": [
        "# sub AND\n",
        "a=2\n",
        "b=3\n",
        "a-=b\n",
        "print(\"OR operation as:\", +a)"
      ],
      "outputs": [
        {
          "output_type": "stream",
          "name": "stdout",
          "text": [
            "OR operation as: -1\n"
          ]
        }
      ],
      "execution_count": 28,
      "metadata": {}
    },
    {
      "cell_type": "code",
      "source": [
        "# Mul AND\n",
        "a=2\n",
        "b=3\n",
        "a*=b\n",
        "print(\"MUL operation as:\", +a)"
      ],
      "outputs": [
        {
          "output_type": "stream",
          "name": "stdout",
          "text": [
            "MUL operation as: 6\n"
          ]
        }
      ],
      "execution_count": 29,
      "metadata": {}
    },
    {
      "cell_type": "code",
      "source": [
        "# DIV AND\n",
        "a=6\n",
        "b=3\n",
        "a/=b\n",
        "print(\"DIV operation as:\", +a)"
      ],
      "outputs": [
        {
          "output_type": "stream",
          "name": "stdout",
          "text": [
            "DIV operation as: 2.0\n"
          ]
        }
      ],
      "execution_count": 31,
      "metadata": {}
    },
    {
      "cell_type": "code",
      "source": [
        "#FLoor DIV AND\n",
        "a=6\n",
        "b=3\n",
        "a//=b\n",
        "print(\" FLoor DIV operation as:\", +a)"
      ],
      "outputs": [
        {
          "output_type": "stream",
          "name": "stdout",
          "text": [
            " FLoor DIV operation as: 2\n"
          ]
        }
      ],
      "execution_count": 32,
      "metadata": {}
    },
    {
      "cell_type": "code",
      "source": [
        "#Mod  AND\n",
        "a=6\n",
        "b=3\n",
        "a%=b\n",
        "print(\" MOD operation as:\", +a)"
      ],
      "outputs": [
        {
          "output_type": "stream",
          "name": "stdout",
          "text": [
            " MOD operation as: 0\n"
          ]
        }
      ],
      "execution_count": 33,
      "metadata": {}
    },
    {
      "cell_type": "code",
      "source": [
        "#EXP  AND\n",
        "a=2\n",
        "b=3\n",
        "a**=b\n",
        "print(\" EXP operation as:\", +a)"
      ],
      "outputs": [
        {
          "output_type": "stream",
          "name": "stdout",
          "text": [
            " EXP operation as: 8\n"
          ]
        }
      ],
      "execution_count": 35,
      "metadata": {}
    },
    {
      "cell_type": "markdown",
      "source": [
        "# Comparison Operators\n",
        "|Operator|\tName|Example|\n",
        "|-------|-------|------|\n",
        "|==|\tEqual|\tx == y\t|\n",
        "|!=\t|Not equal|\tx != y|\t\n",
        "|>\t|Greater than|\tx > y|\t\n",
        "|<\t|Less than\t|x < y\t|\n",
        "|>=\t|Greater than or equal to|x >= y|\t\n",
        "|<=|\tLess than or equal to|\tx <= y|"
      ],
      "metadata": {
        "nteract": {
          "transient": {
            "deleting": false
          }
        }
      }
    },
    {
      "cell_type": "code",
      "source": [
        "x = 35\n",
        "y = 45"
      ],
      "outputs": [],
      "execution_count": 2,
      "metadata": {
        "collapsed": true,
        "jupyter": {
          "source_hidden": false,
          "outputs_hidden": false
        },
        "nteract": {
          "transient": {
            "deleting": false
          }
        },
        "execution": {
          "iopub.status.busy": "2020-08-15T15:34:55.995Z",
          "iopub.execute_input": "2020-08-15T15:34:56.022Z",
          "iopub.status.idle": "2020-08-15T15:34:56.066Z",
          "shell.execute_reply": "2020-08-15T15:34:56.086Z"
        }
      }
    },
    {
      "cell_type": "code",
      "source": [
        "x==y"
      ],
      "outputs": [
        {
          "output_type": "execute_result",
          "execution_count": 3,
          "data": {
            "text/plain": "False"
          },
          "metadata": {}
        }
      ],
      "execution_count": 3,
      "metadata": {
        "collapsed": true,
        "jupyter": {
          "source_hidden": false,
          "outputs_hidden": false
        },
        "nteract": {
          "transient": {
            "deleting": false
          }
        },
        "execution": {
          "iopub.status.busy": "2020-08-15T15:34:56.559Z",
          "iopub.execute_input": "2020-08-15T15:34:56.578Z",
          "shell.execute_reply": "2020-08-15T15:34:56.650Z",
          "iopub.status.idle": "2020-08-15T15:34:56.629Z"
        }
      }
    },
    {
      "cell_type": "markdown",
      "source": [
        "#  Logical Operators\n",
        "\n",
        "* \n",
        "|Operator|\tDescription|Example|\n",
        "|------|------|---|\n",
        "|and |\tReturns True if both statements are true|\tx < 5 and  x < 10|\t\n",
        "|or\t|Returns True if one of the statements is true|\tx < 5 or x < 4\t|\n",
        "|not|\tReverse the result, returns False if the result is true|\tnot(x < 5 and x < 10)|\n"
      ],
      "metadata": {
        "nteract": {
          "transient": {
            "deleting": false
          }
        }
      }
    },
    {
      "cell_type": "markdown",
      "source": [
        "## AND\n",
        "* IF both the Condition are true then we will get output\n",
        "\n",
        "![](https://lh3.googleusercontent.com/-yfDe8Qxgj6M/XzgDlvsJaQI/AAAAAAAApnE/9YnS3Ym1u7U4THUmKghdLqdXCwydD_ZuQCK8BGAsYHg/s0/2020-08-15.png)\n",
        "**Truth table for and**\n",
        "\n",
        "|A|\tB|\tA and B|\n",
        "|--|--|---|\n",
        "|True|\tTrue|\tTrue|\n",
        "|True|\tFalse|\tFalse|\n",
        "|False|\tTrue|\tFalse|\n",
        "|False|False|\tFalse|\n",
        "\n",
        "\n",
        "\n",
        "**or**\n",
        "\n",
        "\n",
        "|A|\tB|\tA and B|\n",
        "|--|--|---|\n",
        "|1|1|1|\n",
        "|1|0|0|\n",
        "|0|1|0|\n",
        "|0|0|0"
      ],
      "metadata": {
        "nteract": {
          "transient": {
            "deleting": false
          }
        }
      }
    },
    {
      "cell_type": "code",
      "source": [
        "A = True\n",
        "B = True\n",
        "C = False"
      ],
      "outputs": [],
      "execution_count": 6,
      "metadata": {
        "collapsed": true,
        "jupyter": {
          "source_hidden": false,
          "outputs_hidden": false
        },
        "nteract": {
          "transient": {
            "deleting": false
          }
        },
        "execution": {
          "iopub.status.busy": "2020-08-15T15:46:08.581Z",
          "iopub.execute_input": "2020-08-15T15:46:08.599Z",
          "iopub.status.idle": "2020-08-15T15:46:08.626Z",
          "shell.execute_reply": "2020-08-15T15:46:09.459Z"
        }
      }
    },
    {
      "cell_type": "code",
      "source": [
        "A and B"
      ],
      "outputs": [
        {
          "output_type": "execute_result",
          "execution_count": 5,
          "data": {
            "text/plain": "True"
          },
          "metadata": {}
        }
      ],
      "execution_count": 5,
      "metadata": {
        "collapsed": true,
        "jupyter": {
          "source_hidden": false,
          "outputs_hidden": false
        },
        "nteract": {
          "transient": {
            "deleting": false
          }
        },
        "execution": {
          "iopub.status.busy": "2020-08-15T15:45:42.641Z",
          "iopub.execute_input": "2020-08-15T15:45:42.675Z",
          "iopub.status.idle": "2020-08-15T15:45:42.829Z",
          "shell.execute_reply": "2020-08-15T15:45:42.841Z"
        }
      }
    },
    {
      "cell_type": "code",
      "source": [
        "A and C"
      ],
      "outputs": [
        {
          "output_type": "execute_result",
          "execution_count": 7,
          "data": {
            "text/plain": "False"
          },
          "metadata": {}
        }
      ],
      "execution_count": 7,
      "metadata": {
        "collapsed": true,
        "jupyter": {
          "source_hidden": false,
          "outputs_hidden": false
        },
        "nteract": {
          "transient": {
            "deleting": false
          }
        },
        "execution": {
          "iopub.status.busy": "2020-08-15T15:46:14.874Z",
          "iopub.execute_input": "2020-08-15T15:46:14.909Z",
          "iopub.status.idle": "2020-08-15T15:46:15.011Z",
          "shell.execute_reply": "2020-08-15T15:46:15.041Z"
        }
      }
    },
    {
      "cell_type": "markdown",
      "source": [
        "## OR\n",
        "* We can Use True if either of the operands is true\n",
        "* `or` will result into True if any of the operands is True. The truth table for or is given below:\n",
        "\n",
        "![](https://lh3.googleusercontent.com/-hnEpsjTqtBA/XzgD45WehxI/AAAAAAAApnM/KNX4XjWl4G8TDQGiwaX7MvuLFG3iIULmQCK8BGAsYHg/s0/2020-08-15.png)\n",
        "\n",
        "**Truth table for or**\n",
        "\n",
        "|A\t|B|\tA or B|\n",
        "|---|--|---|\n",
        "|True\t|True|\tTrue|\n",
        "|True\t|False|\tTrue|\n",
        "|False\t|True|\tTrue|\n",
        "|False\t|False|\tFalse|\n"
      ],
      "metadata": {
        "nteract": {
          "transient": {
            "deleting": false
          }
        }
      }
    },
    {
      "cell_type": "code",
      "source": [
        "X = True\n",
        "Y = False"
      ],
      "outputs": [],
      "execution_count": 9,
      "metadata": {
        "collapsed": true,
        "jupyter": {
          "source_hidden": false,
          "outputs_hidden": false
        },
        "nteract": {
          "transient": {
            "deleting": false
          }
        },
        "execution": {
          "iopub.status.busy": "2020-08-15T15:52:52.240Z",
          "iopub.execute_input": "2020-08-15T15:52:52.255Z",
          "iopub.status.idle": "2020-08-15T15:52:52.272Z",
          "shell.execute_reply": "2020-08-15T15:52:52.295Z"
        }
      }
    },
    {
      "cell_type": "code",
      "source": [
        "X or Y"
      ],
      "outputs": [
        {
          "output_type": "execute_result",
          "execution_count": 10,
          "data": {
            "text/plain": "True"
          },
          "metadata": {}
        }
      ],
      "execution_count": 10,
      "metadata": {
        "collapsed": true,
        "jupyter": {
          "source_hidden": false,
          "outputs_hidden": false
        },
        "nteract": {
          "transient": {
            "deleting": false
          }
        },
        "execution": {
          "iopub.status.busy": "2020-08-15T15:52:52.955Z",
          "iopub.execute_input": "2020-08-15T15:52:52.970Z",
          "iopub.status.idle": "2020-08-15T15:52:53.011Z",
          "shell.execute_reply": "2020-08-15T15:52:53.031Z"
        }
      }
    },
    {
      "cell_type": "markdown",
      "source": [
        "## Not\n",
        "* True if operand is false (complements the operand)\n",
        "* not operator is used to invert the truth value. The truth table for not is given below\n",
        "\n",
        "**Truth tabel for not**\n",
        "\n",
        "|A|\tnot A|\n",
        "|--|---|\n",
        "|True\t|False|\n",
        "|False\t|True|"
      ],
      "metadata": {
        "nteract": {
          "transient": {
            "deleting": false
          }
        }
      }
    },
    {
      "cell_type": "code",
      "source": [
        "A = True"
      ],
      "outputs": [],
      "execution_count": 11,
      "metadata": {
        "collapsed": true,
        "jupyter": {
          "source_hidden": false,
          "outputs_hidden": false
        },
        "nteract": {
          "transient": {
            "deleting": false
          }
        },
        "execution": {
          "iopub.status.busy": "2020-08-15T15:54:39.568Z",
          "iopub.execute_input": "2020-08-15T15:54:39.582Z",
          "iopub.status.idle": "2020-08-15T15:54:39.604Z",
          "shell.execute_reply": "2020-08-15T15:54:39.627Z"
        }
      }
    },
    {
      "cell_type": "code",
      "source": [
        "not A"
      ],
      "outputs": [
        {
          "output_type": "execute_result",
          "execution_count": 12,
          "data": {
            "text/plain": "False"
          },
          "metadata": {}
        }
      ],
      "execution_count": 12,
      "metadata": {
        "collapsed": true,
        "jupyter": {
          "source_hidden": false,
          "outputs_hidden": false
        },
        "nteract": {
          "transient": {
            "deleting": false
          }
        },
        "execution": {
          "iopub.status.busy": "2020-08-15T15:54:45.153Z",
          "iopub.execute_input": "2020-08-15T15:54:45.189Z",
          "iopub.status.idle": "2020-08-15T15:54:45.268Z",
          "shell.execute_reply": "2020-08-15T15:54:45.289Z"
        }
      }
    },
    {
      "cell_type": "code",
      "source": [
        "x = True\n",
        "y = False\n",
        "\n",
        "print('x values is true and y is False we got output is :',x and y)\n",
        "\n",
        "print('x or y is',x or y)\n",
        "\n",
        "print('not x is',not x)"
      ],
      "outputs": [
        {
          "output_type": "stream",
          "name": "stdout",
          "text": [
            "x values is true and y is False we got output is : False\n",
            "x or y is True\n",
            "not x is False\n"
          ]
        }
      ],
      "execution_count": 14,
      "metadata": {
        "collapsed": true,
        "jupyter": {
          "source_hidden": false,
          "outputs_hidden": false
        },
        "nteract": {
          "transient": {
            "deleting": false
          }
        },
        "execution": {
          "iopub.status.busy": "2020-08-15T15:58:48.425Z",
          "iopub.execute_input": "2020-08-15T15:58:48.459Z",
          "iopub.status.idle": "2020-08-15T15:58:48.507Z",
          "shell.execute_reply": "2020-08-15T15:58:48.532Z"
        }
      }
    },
    {
      "cell_type": "markdown",
      "source": [
        "### Mixed Type of operation"
      ],
      "metadata": {
        "nteract": {
          "transient": {
            "deleting": false
          }
        }
      }
    },
    {
      "cell_type": "code",
      "source": [
        "x = 10\n",
        "y = 20"
      ],
      "outputs": [],
      "execution_count": null,
      "metadata": {
        "collapsed": true,
        "jupyter": {
          "source_hidden": false,
          "outputs_hidden": false
        },
        "nteract": {
          "transient": {
            "deleting": false
          }
        }
      }
    },
    {
      "cell_type": "code",
      "source": [
        "x == y"
      ],
      "outputs": [
        {
          "output_type": "execute_result",
          "execution_count": 15,
          "data": {
            "text/plain": "False"
          },
          "metadata": {}
        }
      ],
      "execution_count": 15,
      "metadata": {
        "collapsed": true,
        "jupyter": {
          "source_hidden": false,
          "outputs_hidden": false
        },
        "nteract": {
          "transient": {
            "deleting": false
          }
        },
        "execution": {
          "iopub.status.busy": "2020-08-15T16:01:59.899Z",
          "iopub.execute_input": "2020-08-15T16:01:59.916Z",
          "iopub.status.idle": "2020-08-15T16:02:00.060Z",
          "shell.execute_reply": "2020-08-15T16:02:00.095Z"
        }
      }
    },
    {
      "cell_type": "code",
      "source": [
        "x !=y"
      ],
      "outputs": [
        {
          "output_type": "execute_result",
          "execution_count": 16,
          "data": {
            "text/plain": "True"
          },
          "metadata": {}
        }
      ],
      "execution_count": 16,
      "metadata": {
        "collapsed": true,
        "jupyter": {
          "source_hidden": false,
          "outputs_hidden": false
        },
        "nteract": {
          "transient": {
            "deleting": false
          }
        },
        "execution": {
          "iopub.status.busy": "2020-08-15T16:02:10.075Z",
          "iopub.execute_input": "2020-08-15T16:02:10.093Z",
          "iopub.status.idle": "2020-08-15T16:02:10.139Z",
          "shell.execute_reply": "2020-08-15T16:02:10.165Z"
        }
      }
    },
    {
      "cell_type": "code",
      "source": [
        "x == y and x!=y"
      ],
      "outputs": [
        {
          "output_type": "execute_result",
          "execution_count": 17,
          "data": {
            "text/plain": "False"
          },
          "metadata": {}
        }
      ],
      "execution_count": 17,
      "metadata": {
        "collapsed": true,
        "jupyter": {
          "source_hidden": false,
          "outputs_hidden": false
        },
        "nteract": {
          "transient": {
            "deleting": false
          }
        },
        "execution": {
          "iopub.status.busy": "2020-08-15T16:02:44.168Z",
          "iopub.execute_input": "2020-08-15T16:02:44.196Z",
          "iopub.status.idle": "2020-08-15T16:02:44.251Z",
          "shell.execute_reply": "2020-08-15T16:02:44.289Z"
        }
      }
    },
    {
      "cell_type": "code",
      "source": [
        "not x==y"
      ],
      "outputs": [
        {
          "output_type": "execute_result",
          "execution_count": 19,
          "data": {
            "text/plain": "True"
          },
          "metadata": {}
        }
      ],
      "execution_count": 19,
      "metadata": {
        "collapsed": true,
        "jupyter": {
          "source_hidden": false,
          "outputs_hidden": false
        },
        "nteract": {
          "transient": {
            "deleting": false
          }
        },
        "execution": {
          "iopub.status.busy": "2020-08-15T16:06:56.763Z",
          "iopub.execute_input": "2020-08-15T16:06:56.803Z",
          "iopub.status.idle": "2020-08-15T16:06:56.886Z",
          "shell.execute_reply": "2020-08-15T16:06:56.934Z"
        }
      }
    },
    {
      "cell_type": "markdown",
      "source": [
        "# Special operators\n",
        "    * Membership Operators\n",
        "    * Identity Operators \n",
        "\n",
        "# Membership Operators\n",
        "* Membership operators are used to test if a sequence is presented in an object\n",
        "* Membership operators such as strings, lists, or tuples. There are two membership operators as explained below\n",
        "\n",
        "\n",
        "|Operator|Description|Example|\n",
        "|---|----|---|\n",
        "|in|Evaluates to true if it finds a variable in the specified sequence and false otherwise.|x in y, here in results in a 1 if x is a member of sequence y.|\n",
        "|not in|Evaluates to true if it does not finds a variable in the specified sequence and false otherwise.|\tx not in y, here not in results in a 1 if x is not a member of sequence y.|"
      ],
      "metadata": {}
    },
    {
      "cell_type": "code",
      "source": [
        "S = \"Membership\"\n",
        "'ship' in S"
      ],
      "outputs": [
        {
          "output_type": "execute_result",
          "execution_count": 2,
          "data": {
            "text/plain": "True"
          },
          "metadata": {}
        }
      ],
      "execution_count": 2,
      "metadata": {
        "collapsed": true,
        "jupyter": {
          "source_hidden": false,
          "outputs_hidden": false
        },
        "nteract": {
          "transient": {
            "deleting": false
          }
        },
        "execution": {
          "iopub.status.busy": "2020-08-16T09:41:06.402Z",
          "iopub.execute_input": "2020-08-16T09:41:06.458Z",
          "iopub.status.idle": "2020-08-16T09:41:06.550Z",
          "shell.execute_reply": "2020-08-16T09:41:06.586Z"
        }
      }
    },
    {
      "cell_type": "code",
      "source": [
        "\"Hello\" in S"
      ],
      "outputs": [
        {
          "output_type": "execute_result",
          "execution_count": 3,
          "data": {
            "text/plain": "False"
          },
          "metadata": {}
        }
      ],
      "execution_count": 3,
      "metadata": {
        "collapsed": true,
        "jupyter": {
          "source_hidden": false,
          "outputs_hidden": false
        },
        "nteract": {
          "transient": {
            "deleting": false
          }
        },
        "execution": {
          "iopub.status.busy": "2020-08-16T09:41:26.535Z",
          "iopub.execute_input": "2020-08-16T09:41:26.581Z",
          "iopub.status.idle": "2020-08-16T09:41:26.877Z",
          "shell.execute_reply": "2020-08-16T09:41:26.901Z"
        }
      }
    },
    {
      "cell_type": "code",
      "source": [
        "li = [10, 10.254, 2j+3,'hello','raj','Rani','Ramaya']  # list Data Structer\n",
        "li"
      ],
      "outputs": [
        {
          "output_type": "execute_result",
          "execution_count": 6,
          "data": {
            "text/plain": "[10, 10.254, (3+2j), 'hello', 'raj', 'Rani', 'Ramaya']"
          },
          "metadata": {}
        }
      ],
      "execution_count": 6,
      "metadata": {
        "collapsed": true,
        "jupyter": {
          "source_hidden": false,
          "outputs_hidden": false
        },
        "nteract": {
          "transient": {
            "deleting": false
          }
        },
        "execution": {
          "iopub.status.busy": "2020-08-16T09:44:05.567Z",
          "iopub.execute_input": "2020-08-16T09:44:05.626Z",
          "iopub.status.idle": "2020-08-16T09:44:05.783Z",
          "shell.execute_reply": "2020-08-16T09:44:05.815Z"
        }
      }
    },
    {
      "cell_type": "code",
      "source": [
        "'raj' in li"
      ],
      "outputs": [
        {
          "output_type": "execute_result",
          "execution_count": 7,
          "data": {
            "text/plain": "True"
          },
          "metadata": {}
        }
      ],
      "execution_count": 7,
      "metadata": {
        "collapsed": true,
        "jupyter": {
          "source_hidden": false,
          "outputs_hidden": false
        },
        "nteract": {
          "transient": {
            "deleting": false
          }
        },
        "execution": {
          "iopub.status.busy": "2020-08-16T09:44:09.925Z",
          "iopub.execute_input": "2020-08-16T09:44:09.985Z",
          "iopub.status.idle": "2020-08-16T09:44:10.110Z",
          "shell.execute_reply": "2020-08-16T09:44:10.156Z"
        }
      }
    },
    {
      "cell_type": "code",
      "source": [
        "x = [\"apple\", \"banana\"]\n",
        "\n",
        "print(\"banana\" in x)  # returns True because a sequence with the value \"banana\" is in the list"
      ],
      "outputs": [
        {
          "output_type": "stream",
          "name": "stdout",
          "text": [
            "True\n"
          ]
        }
      ],
      "execution_count": 8,
      "metadata": {
        "collapsed": true,
        "jupyter": {
          "source_hidden": false,
          "outputs_hidden": false
        },
        "nteract": {
          "transient": {
            "deleting": false
          }
        },
        "execution": {
          "iopub.status.busy": "2020-08-16T09:46:01.305Z",
          "iopub.execute_input": "2020-08-16T09:46:01.365Z",
          "iopub.status.idle": "2020-08-16T09:46:01.707Z",
          "shell.execute_reply": "2020-08-16T09:46:01.727Z"
        }
      }
    },
    {
      "cell_type": "code",
      "source": [
        "\"ship\" not in S"
      ],
      "outputs": [
        {
          "output_type": "execute_result",
          "execution_count": 9,
          "data": {
            "text/plain": "False"
          },
          "metadata": {}
        }
      ],
      "execution_count": 9,
      "metadata": {
        "collapsed": true,
        "jupyter": {
          "source_hidden": false,
          "outputs_hidden": false
        },
        "nteract": {
          "transient": {
            "deleting": false
          }
        },
        "execution": {
          "iopub.status.busy": "2020-08-16T09:47:53.938Z",
          "iopub.execute_input": "2020-08-16T09:47:53.978Z",
          "iopub.status.idle": "2020-08-16T09:47:54.073Z",
          "shell.execute_reply": "2020-08-16T09:47:54.128Z"
        }
      }
    },
    {
      "cell_type": "code",
      "source": [
        "x = [\"apple\", \"banana\"]\n",
        "\n",
        "print(\"pineapple\" not in x)\n",
        "\n",
        "# returns True because a sequence with the value \"pineapple\" is not in the list\n"
      ],
      "outputs": [
        {
          "output_type": "stream",
          "name": "stdout",
          "text": [
            "True\n"
          ]
        }
      ],
      "execution_count": 10,
      "metadata": {
        "collapsed": true,
        "jupyter": {
          "source_hidden": false,
          "outputs_hidden": false
        },
        "nteract": {
          "transient": {
            "deleting": false
          }
        },
        "execution": {
          "iopub.status.busy": "2020-08-16T09:48:32.851Z",
          "iopub.execute_input": "2020-08-16T09:48:32.889Z",
          "iopub.status.idle": "2020-08-16T09:48:32.975Z",
          "shell.execute_reply": "2020-08-16T09:48:33.011Z"
        }
      }
    },
    {
      "cell_type": "code",
      "source": [
        "'Hello' in 'Hello world!'"
      ],
      "outputs": [
        {
          "output_type": "execute_result",
          "execution_count": 11,
          "data": {
            "text/plain": "True"
          },
          "metadata": {}
        }
      ],
      "execution_count": 11,
      "metadata": {
        "collapsed": true,
        "jupyter": {
          "source_hidden": false,
          "outputs_hidden": false
        },
        "nteract": {
          "transient": {
            "deleting": false
          }
        },
        "execution": {
          "iopub.status.busy": "2020-08-16T09:49:57.369Z",
          "iopub.execute_input": "2020-08-16T09:49:57.454Z",
          "iopub.status.idle": "2020-08-16T09:49:57.676Z",
          "shell.execute_reply": "2020-08-16T09:49:57.714Z"
        }
      }
    },
    {
      "cell_type": "code",
      "source": [
        "name = input(\"Please Enter Your Name:\")\n",
        "print(\"Reddy\" in name)"
      ],
      "outputs": [
        {
          "output_type": "stream",
          "name": "stdout",
          "text": [
            "True\n"
          ]
        }
      ],
      "execution_count": 13,
      "metadata": {
        "collapsed": true,
        "jupyter": {
          "source_hidden": false,
          "outputs_hidden": false
        },
        "nteract": {
          "transient": {
            "deleting": false
          }
        },
        "execution": {
          "iopub.status.busy": "2020-08-16T09:51:30.748Z",
          "iopub.execute_input": "2020-08-16T09:51:30.781Z",
          "iopub.status.idle": "2020-08-16T09:51:34.931Z",
          "shell.execute_reply": "2020-08-16T09:51:35.012Z"
        }
      }
    },
    {
      "cell_type": "code",
      "source": [
        "name = input(\"Please Enter Your Name:\")\n",
        "print(\"Reddy\" not in name)"
      ],
      "outputs": [
        {
          "output_type": "stream",
          "name": "stdout",
          "text": [
            "True\n"
          ]
        }
      ],
      "execution_count": 14,
      "metadata": {
        "collapsed": true,
        "jupyter": {
          "source_hidden": false,
          "outputs_hidden": false
        },
        "nteract": {
          "transient": {
            "deleting": false
          }
        },
        "execution": {
          "iopub.status.busy": "2020-08-16T09:51:49.330Z",
          "iopub.execute_input": "2020-08-16T09:51:49.355Z",
          "iopub.status.idle": "2020-08-16T09:51:52.766Z",
          "shell.execute_reply": "2020-08-16T09:51:52.843Z"
        }
      }
    },
    {
      "cell_type": "markdown",
      "source": [
        "# Identity Operators\n",
        "\n",
        "* Identity operators are used to compare the objects, not if they are equal, but if they are actually the same object, with the same memory location\n"
      ],
      "metadata": {
        "nteract": {
          "transient": {
            "deleting": false
          }
        }
      }
    },
    {
      "cell_type": "markdown",
      "source": [
        "|Operator|Description|Example|\n",
        "|----|-----|---|\n",
        "|is |Returns true if both variables are the same object\t|x is y|\n",
        "|is not|Returns true if both variables are not the same object|\tx is not y|"
      ],
      "metadata": {
        "nteract": {
          "transient": {
            "deleting": false
          }
        }
      }
    },
    {
      "cell_type": "code",
      "source": [
        "x = [\"apple\", \"banana\"]  # x Same Memory Location\n",
        "y = [\"apple\", \"banana\"]\n",
        "z = x # z is have the y Memory Location"
      ],
      "outputs": [],
      "execution_count": 25,
      "metadata": {
        "collapsed": true,
        "jupyter": {
          "source_hidden": false,
          "outputs_hidden": false
        },
        "nteract": {
          "transient": {
            "deleting": false
          }
        },
        "execution": {
          "iopub.status.busy": "2020-08-16T09:59:29.571Z",
          "iopub.execute_input": "2020-08-16T09:59:29.602Z",
          "iopub.status.idle": "2020-08-16T09:59:29.647Z",
          "shell.execute_reply": "2020-08-16T09:59:29.686Z"
        }
      }
    },
    {
      "cell_type": "code",
      "source": [
        "x is z"
      ],
      "outputs": [
        {
          "output_type": "execute_result",
          "execution_count": 27,
          "data": {
            "text/plain": "True"
          },
          "metadata": {}
        }
      ],
      "execution_count": 27,
      "metadata": {
        "collapsed": true,
        "jupyter": {
          "source_hidden": false,
          "outputs_hidden": false
        },
        "nteract": {
          "transient": {
            "deleting": false
          }
        },
        "execution": {
          "iopub.status.busy": "2020-08-16T09:59:31.025Z",
          "iopub.execute_input": "2020-08-16T09:59:31.065Z",
          "iopub.status.idle": "2020-08-16T09:59:31.164Z",
          "shell.execute_reply": "2020-08-16T09:59:31.194Z"
        }
      }
    },
    {
      "cell_type": "code",
      "source": [
        "x == z"
      ],
      "outputs": [
        {
          "output_type": "execute_result",
          "execution_count": 28,
          "data": {
            "text/plain": "True"
          },
          "metadata": {}
        }
      ],
      "execution_count": 28,
      "metadata": {
        "collapsed": true,
        "jupyter": {
          "source_hidden": false,
          "outputs_hidden": false
        },
        "nteract": {
          "transient": {
            "deleting": false
          }
        },
        "execution": {
          "iopub.status.busy": "2020-08-16T09:59:31.883Z",
          "iopub.execute_input": "2020-08-16T09:59:31.915Z",
          "iopub.status.idle": "2020-08-16T09:59:31.977Z",
          "shell.execute_reply": "2020-08-16T09:59:32.008Z"
        }
      }
    },
    {
      "cell_type": "code",
      "source": [
        "x is y"
      ],
      "outputs": [
        {
          "output_type": "execute_result",
          "execution_count": 29,
          "data": {
            "text/plain": "False"
          },
          "metadata": {}
        }
      ],
      "execution_count": 29,
      "metadata": {
        "collapsed": true,
        "jupyter": {
          "source_hidden": false,
          "outputs_hidden": false
        },
        "nteract": {
          "transient": {
            "deleting": false
          }
        },
        "execution": {
          "iopub.status.busy": "2020-08-16T09:59:33.330Z",
          "iopub.execute_input": "2020-08-16T09:59:33.361Z",
          "iopub.status.idle": "2020-08-16T09:59:33.434Z",
          "shell.execute_reply": "2020-08-16T09:59:33.472Z"
        }
      }
    },
    {
      "cell_type": "code",
      "source": [
        "x == y"
      ],
      "outputs": [
        {
          "output_type": "execute_result",
          "execution_count": 24,
          "data": {
            "text/plain": "True"
          },
          "metadata": {}
        }
      ],
      "execution_count": 24,
      "metadata": {
        "collapsed": true,
        "jupyter": {
          "source_hidden": false,
          "outputs_hidden": false
        },
        "nteract": {
          "transient": {
            "deleting": false
          }
        },
        "execution": {
          "iopub.status.busy": "2020-08-16T09:59:24.591Z",
          "iopub.execute_input": "2020-08-16T09:59:24.629Z",
          "iopub.status.idle": "2020-08-16T09:59:24.738Z",
          "shell.execute_reply": "2020-08-16T09:59:24.792Z"
        }
      }
    },
    {
      "cell_type": "code",
      "source": [
        "id(x)  # Address Location In Memory "
      ],
      "outputs": [
        {
          "output_type": "execute_result",
          "execution_count": 30,
          "data": {
            "text/plain": "1821456352648"
          },
          "metadata": {}
        }
      ],
      "execution_count": 30,
      "metadata": {
        "collapsed": true,
        "jupyter": {
          "source_hidden": false,
          "outputs_hidden": false
        },
        "nteract": {
          "transient": {
            "deleting": false
          }
        },
        "execution": {
          "iopub.status.busy": "2020-08-16T09:59:53.134Z",
          "iopub.execute_input": "2020-08-16T09:59:53.148Z",
          "iopub.status.idle": "2020-08-16T09:59:53.195Z",
          "shell.execute_reply": "2020-08-16T09:59:53.232Z"
        }
      }
    },
    {
      "cell_type": "code",
      "source": [
        "id(z)"
      ],
      "outputs": [
        {
          "output_type": "execute_result",
          "execution_count": 32,
          "data": {
            "text/plain": "1821456352648"
          },
          "metadata": {}
        }
      ],
      "execution_count": 32,
      "metadata": {
        "collapsed": true,
        "jupyter": {
          "source_hidden": false,
          "outputs_hidden": false
        },
        "nteract": {
          "transient": {
            "deleting": false
          }
        },
        "execution": {
          "iopub.status.busy": "2020-08-16T10:00:19.926Z",
          "iopub.execute_input": "2020-08-16T10:00:19.957Z",
          "iopub.status.idle": "2020-08-16T10:00:20.046Z",
          "shell.execute_reply": "2020-08-16T10:00:20.122Z"
        }
      }
    },
    {
      "cell_type": "code",
      "source": [
        "id(y)"
      ],
      "outputs": [
        {
          "output_type": "execute_result",
          "execution_count": 31,
          "data": {
            "text/plain": "1821456060488"
          },
          "metadata": {}
        }
      ],
      "execution_count": 31,
      "metadata": {
        "collapsed": true,
        "jupyter": {
          "source_hidden": false,
          "outputs_hidden": false
        },
        "nteract": {
          "transient": {
            "deleting": false
          }
        },
        "execution": {
          "iopub.status.busy": "2020-08-16T10:00:10.587Z",
          "iopub.execute_input": "2020-08-16T10:00:10.610Z",
          "iopub.status.idle": "2020-08-16T10:00:10.654Z",
          "shell.execute_reply": "2020-08-16T10:00:10.699Z"
        }
      }
    },
    {
      "cell_type": "code",
      "source": [
        "x = [\"apple\", \"banana\"]\n",
        "y = [\"apple\", \"banana\"]\n",
        "z = x\n",
        "\n",
        "print(x is not z)\n",
        "\n",
        "# returns False because z is the same object as x\n",
        "\n",
        "print(x is not y)\n",
        "\n",
        "# returns True because x is not the same object as y, even if they have the same content\n",
        "\n",
        "print(x != y)\n",
        "\n",
        "# to demonstrate the difference betweeen \"is not\" and \"!=\": this comparison returns False because x is equal to y"
      ],
      "outputs": [
        {
          "output_type": "stream",
          "name": "stdout",
          "text": [
            "False\n",
            "True\n",
            "False\n"
          ]
        }
      ],
      "execution_count": 33,
      "metadata": {
        "collapsed": true,
        "jupyter": {
          "source_hidden": false,
          "outputs_hidden": false
        },
        "nteract": {
          "transient": {
            "deleting": false
          }
        },
        "execution": {
          "iopub.status.busy": "2020-08-16T10:04:41.123Z",
          "iopub.execute_input": "2020-08-16T10:04:41.150Z",
          "iopub.status.idle": "2020-08-16T10:04:41.241Z",
          "shell.execute_reply": "2020-08-16T10:04:41.286Z"
        }
      }
    },
    {
      "cell_type": "markdown",
      "source": [
        "# Bitwise operators\n",
        "\n",
        "* Bitwise operates are used for bit processing in a system such as 0's and 1's Or binary numbering system\n",
        "* They operate on numbers (normally), but instead of treating that number as if it were a single value, they treat it as if it were a string of bits\n",
        "\n",
        "\n",
        "|Operator|\tDescription|\tExample| Gate|\n",
        "|-----|-----|-----|--|\n",
        "|& Binary AND|\tOperator copies a bit to the result if it exists in both operands\t|(a & b) (means 0000 1100|![](https://lh3.googleusercontent.com/-yfDe8Qxgj6M/XzgDlvsJaQI/AAAAAAAApnE/9YnS3Ym1u7U4THUmKghdLqdXCwydD_ZuQCK8BGAsYHg/s0/2020-08-15.png)|\n",
        "|Binary OR\t|It copies a bit if it exists in either operand.\t|(a / b) = 61 (means 0011 1101)|![](https://lh3.googleusercontent.com/-hnEpsjTqtBA/XzgD45WehxI/AAAAAAAApnM/KNX4XjWl4G8TDQGiwaX7MvuLFG3iIULmQCK8BGAsYHg/s0/2020-08-15.png)|\n",
        "|^ Binary XOR|\tIt copies the bit if it is set in one operand but not both.\t|(a ^ b) = 49 (means 0011 0001)|![](https://lh3.googleusercontent.com/-4bNtHPqhd9g/XzkPR7OToxI/AAAAAAAApnY/seOCHETnCCQSTgcRRvd5XsjoeVQwfXy5gCK8BGAsYHg/s0/2020-08-16.png)|\n",
        "|~ Binary Ones Complement|\tIt is unary and has the effect of 'flipping' bits.\t|(~a ) = -61 (means 1100 0011 in 2's complement form due to a signed binary number.|![](https://lh3.googleusercontent.com/-9fM_UpD65Dk/XzkQ8eTCdDI/AAAAAAAApnk/z4xaf1sSk4UR4kxoYZvGrV1ojEZwtSTxgCK8BGAsYHg/s0/2020-08-16.png)\n",
        "|<< Binary Left Shift|\tThe left operands value is moved left by the number of bits specified by the right operand.\t|a << 2 = 240 (means 1111 0000)|\n",
        "|>> Binary Right Shift\t|The left operands value is moved right by the number of bits specified by the right operand.|\ta >> 2 = 15 (means 0000 1111)|\n",
        "\n"
      ],
      "metadata": {}
    },
    {
      "cell_type": "markdown",
      "source": [
        "### Binary Number system \n",
        "\n",
        "* Binary number system power of two\n",
        "\n",
        "**1029 is \"10000000101\"** \n",
        "\n",
        "    == 2^10 + 2^2 + 2^0 \n",
        "    == 1024 + 4 + 1\n",
        "    \n",
        "    \n",
        "    \n",
        " * We have 1 bit, 2 bit, 4 bit 8 bit , 16 bit , 32 bit, 64 bit, 128 bit, 256 bit,512 bit, 1024 bit\n",
        " \n",
        " \n",
        "\n",
        "|Decimal Number|Binary Number(8 4 2 1)|Octal decimal (8)|Hexa decimal(16 bit)|\n",
        "|-----|----|---|---|\n",
        "|0|0000|0|0\n",
        "|1|0001|1|1\n",
        "|2|0010|2|2\n",
        "|3|0011|3|3\n",
        "|4|0100|4|4\n",
        "|5|0101|5|5\n",
        "|6|0110|6|6\n",
        "|7|0111|7|7\n",
        "|8|1000|10|8\n",
        "|9|1001|11|9\n",
        "|10|1010|12|A"
      ],
      "metadata": {
        "nteract": {
          "transient": {
            "deleting": false
          }
        }
      }
    },
    {
      "cell_type": "markdown",
      "source": [
        "#### Binary AND Operator (&):\n",
        "* Does a \"bitwise and\". Each bit of the output is 1 if the corresponding bit of x AND of y is 1, otherwise it's 0."
      ],
      "metadata": {
        "nteract": {
          "transient": {
            "deleting": false
          }
        }
      }
    },
    {
      "cell_type": "code",
      "source": [
        "x = 1   # 0001\n",
        "y = 0   # 0000"
      ],
      "outputs": [],
      "execution_count": 36,
      "metadata": {
        "collapsed": true,
        "jupyter": {
          "source_hidden": false,
          "outputs_hidden": false
        },
        "nteract": {
          "transient": {
            "deleting": false
          }
        },
        "execution": {
          "iopub.status.busy": "2020-08-16T10:25:08.683Z",
          "iopub.execute_input": "2020-08-16T10:25:08.765Z",
          "iopub.status.idle": "2020-08-16T10:25:08.850Z",
          "shell.execute_reply": "2020-08-16T10:25:08.902Z"
        }
      }
    },
    {
      "cell_type": "code",
      "source": [
        "x & y"
      ],
      "outputs": [
        {
          "output_type": "execute_result",
          "execution_count": 37,
          "data": {
            "text/plain": "0"
          },
          "metadata": {}
        }
      ],
      "execution_count": 37,
      "metadata": {
        "collapsed": true,
        "jupyter": {
          "source_hidden": false,
          "outputs_hidden": false
        },
        "nteract": {
          "transient": {
            "deleting": false
          }
        },
        "execution": {
          "iopub.status.busy": "2020-08-16T10:25:09.207Z",
          "iopub.execute_input": "2020-08-16T10:25:09.229Z",
          "iopub.status.idle": "2020-08-16T10:25:09.290Z",
          "shell.execute_reply": "2020-08-16T10:25:09.343Z"
        }
      }
    },
    {
      "cell_type": "code",
      "source": [
        "z = 1  # 0001\n",
        "x & z"
      ],
      "outputs": [
        {
          "output_type": "execute_result",
          "execution_count": 38,
          "data": {
            "text/plain": "1"
          },
          "metadata": {}
        }
      ],
      "execution_count": 38,
      "metadata": {
        "collapsed": true,
        "jupyter": {
          "source_hidden": false,
          "outputs_hidden": false
        },
        "nteract": {
          "transient": {
            "deleting": false
          }
        },
        "execution": {
          "iopub.status.busy": "2020-08-16T10:42:23.150Z",
          "iopub.execute_input": "2020-08-16T10:42:23.178Z",
          "iopub.status.idle": "2020-08-16T10:42:23.304Z",
          "shell.execute_reply": "2020-08-16T10:42:23.389Z"
        }
      }
    },
    {
      "cell_type": "code",
      "source": [
        "          # 16 8 4 2 1\n",
        "i = 11    # 0  1 0 1 1\n",
        "i2 = 20   # 1  0 1 0 0\n",
        "# i & i2    0  0 0 0 0\n",
        "i & i2"
      ],
      "outputs": [
        {
          "output_type": "execute_result",
          "execution_count": 4,
          "data": {
            "text/plain": "0"
          },
          "metadata": {}
        }
      ],
      "execution_count": 4,
      "metadata": {
        "collapsed": true,
        "jupyter": {
          "source_hidden": false,
          "outputs_hidden": false
        },
        "nteract": {
          "transient": {
            "deleting": false
          }
        },
        "execution": {
          "iopub.status.busy": "2020-08-18T15:50:00.968Z",
          "iopub.execute_input": "2020-08-18T15:50:01.047Z",
          "iopub.status.idle": "2020-08-18T15:50:01.223Z",
          "shell.execute_reply": "2020-08-18T15:50:01.348Z"
        }
      }
    },
    {
      "cell_type": "markdown",
      "source": [
        "### Bitwise or (|):\n",
        "* Does a \"bitwise or\". Each bit of the output is 0 if the corresponding bit of x AND of y is 0, otherwise it's 1.\n",
        "![](https://lh3.googleusercontent.com/-hnEpsjTqtBA/XzgD45WehxI/AAAAAAAApnM/KNX4XjWl4G8TDQGiwaX7MvuLFG3iIULmQCK8BGAsYHg/s0/2020-08-15.png)"
      ],
      "metadata": {
        "nteract": {
          "transient": {
            "deleting": false
          }
        }
      }
    },
    {
      "cell_type": "code",
      "source": [
        "## Binary number for 15 and 20\n",
        "#        16 8 4 2 1\n",
        "i = 20  # 1 0 1 0 0\n",
        "j = 15  # 0 1 1 1 1\n",
        "# -------------------\n",
        "# or --># 1 1 1 1 1   --> 31\n",
        "       \n",
        "i | j "
      ],
      "outputs": [
        {
          "output_type": "execute_result",
          "execution_count": 3,
          "data": {
            "text/plain": "31"
          },
          "metadata": {}
        }
      ],
      "execution_count": 3,
      "metadata": {
        "collapsed": true,
        "jupyter": {
          "source_hidden": false,
          "outputs_hidden": false
        },
        "nteract": {
          "transient": {
            "deleting": false
          }
        },
        "execution": {
          "iopub.status.busy": "2020-08-18T15:45:15.803Z",
          "iopub.execute_input": "2020-08-18T15:45:15.881Z",
          "iopub.status.idle": "2020-08-18T15:45:16.010Z",
          "shell.execute_reply": "2020-08-18T15:45:16.080Z"
        }
      }
    },
    {
      "cell_type": "code",
      "source": [
        "A = 1  # 0001\n",
        "B = 0  # 0000\n",
        "C = 0"
      ],
      "outputs": [],
      "execution_count": 40,
      "metadata": {
        "collapsed": true,
        "jupyter": {
          "source_hidden": false,
          "outputs_hidden": false
        },
        "nteract": {
          "transient": {
            "deleting": false
          }
        },
        "execution": {
          "iopub.status.busy": "2020-08-16T10:45:30.375Z",
          "iopub.execute_input": "2020-08-16T10:45:30.440Z",
          "iopub.status.idle": "2020-08-16T10:45:30.566Z",
          "shell.execute_reply": "2020-08-16T10:45:30.634Z"
        }
      }
    },
    {
      "cell_type": "code",
      "source": [
        "A | B  # 0001  "
      ],
      "outputs": [
        {
          "output_type": "execute_result",
          "execution_count": 41,
          "data": {
            "text/plain": "1"
          },
          "metadata": {}
        }
      ],
      "execution_count": 41,
      "metadata": {
        "collapsed": true,
        "jupyter": {
          "source_hidden": false,
          "outputs_hidden": false
        },
        "nteract": {
          "transient": {
            "deleting": false
          }
        },
        "execution": {
          "iopub.status.busy": "2020-08-16T10:45:36.321Z",
          "iopub.execute_input": "2020-08-16T10:45:36.349Z",
          "iopub.status.idle": "2020-08-16T10:45:36.710Z",
          "shell.execute_reply": "2020-08-16T10:45:36.788Z"
        }
      }
    },
    {
      "cell_type": "code",
      "source": [
        "C | B  # 0000"
      ],
      "outputs": [
        {
          "output_type": "execute_result",
          "execution_count": 43,
          "data": {
            "text/plain": "0"
          },
          "metadata": {}
        }
      ],
      "execution_count": 43,
      "metadata": {
        "collapsed": true,
        "jupyter": {
          "source_hidden": false,
          "outputs_hidden": false
        },
        "nteract": {
          "transient": {
            "deleting": false
          }
        },
        "execution": {
          "iopub.status.busy": "2020-08-16T10:46:36.339Z",
          "iopub.execute_input": "2020-08-16T10:46:36.390Z",
          "iopub.status.idle": "2020-08-16T10:46:36.464Z",
          "shell.execute_reply": "2020-08-16T10:46:36.505Z"
        }
      }
    },
    {
      "cell_type": "markdown",
      "source": [
        "## Bitwise exclusive or (^)\n",
        "* Does a \"bitwise exclusive or\". Each bit of the output is the same as the corresponding bit in x if that bit in y is 0, and it's the complement of the bit in x if that bit in y is 1.\n",
        "\n",
        "![](https://lh3.googleusercontent.com/-4bNtHPqhd9g/XzkPR7OToxI/AAAAAAAApnY/seOCHETnCCQSTgcRRvd5XsjoeVQwfXy5gCK8BGAsYHg/s0/2020-08-16.png)"
      ],
      "metadata": {
        "nteract": {
          "transient": {
            "deleting": false
          }
        }
      }
    },
    {
      "cell_type": "code",
      "source": [
        "A = 1  # 0001\n",
        "B = 0  # 0000\n",
        "C = 0  # 0000"
      ],
      "outputs": [],
      "execution_count": 46,
      "metadata": {
        "collapsed": true,
        "jupyter": {
          "source_hidden": false,
          "outputs_hidden": false
        },
        "nteract": {
          "transient": {
            "deleting": false
          }
        },
        "execution": {
          "iopub.status.busy": "2020-08-16T10:51:53.979Z",
          "iopub.execute_input": "2020-08-16T10:51:54.019Z",
          "iopub.status.idle": "2020-08-16T10:51:54.084Z",
          "shell.execute_reply": "2020-08-16T10:51:54.121Z"
        }
      }
    },
    {
      "cell_type": "code",
      "source": [
        "A ^ B"
      ],
      "outputs": [
        {
          "output_type": "execute_result",
          "execution_count": 45,
          "data": {
            "text/plain": "1"
          },
          "metadata": {}
        }
      ],
      "execution_count": 45,
      "metadata": {
        "collapsed": true,
        "jupyter": {
          "source_hidden": false,
          "outputs_hidden": false
        },
        "nteract": {
          "transient": {
            "deleting": false
          }
        },
        "execution": {
          "iopub.status.busy": "2020-08-16T10:51:36.242Z",
          "iopub.execute_input": "2020-08-16T10:51:36.318Z",
          "iopub.status.idle": "2020-08-16T10:51:36.519Z",
          "shell.execute_reply": "2020-08-16T10:51:36.584Z"
        }
      }
    },
    {
      "cell_type": "code",
      "source": [
        "B ^ C"
      ],
      "outputs": [
        {
          "output_type": "execute_result",
          "execution_count": 47,
          "data": {
            "text/plain": "0"
          },
          "metadata": {}
        }
      ],
      "execution_count": 47,
      "metadata": {
        "collapsed": true,
        "jupyter": {
          "source_hidden": false,
          "outputs_hidden": false
        },
        "nteract": {
          "transient": {
            "deleting": false
          }
        },
        "execution": {
          "iopub.status.busy": "2020-08-16T10:52:01.193Z",
          "iopub.execute_input": "2020-08-16T10:52:01.261Z",
          "iopub.status.idle": "2020-08-16T10:52:01.365Z",
          "shell.execute_reply": "2020-08-16T10:52:01.408Z"
        }
      }
    },
    {
      "cell_type": "markdown",
      "source": [
        "## Left Shift\n",
        "\n",
        "* The left Most bit has to shift to right hands side "
      ],
      "metadata": {
        "nteract": {
          "transient": {
            "deleting": false
          }
        }
      }
    },
    {
      "cell_type": "code",
      "source": [
        "C = 3   # 0 0 1 1\n",
        "C<<1    # 0 1 1 0--> 6"
      ],
      "outputs": [
        {
          "output_type": "execute_result",
          "execution_count": 5,
          "data": {
            "text/plain": "6"
          },
          "metadata": {}
        }
      ],
      "execution_count": 5,
      "metadata": {
        "collapsed": true,
        "jupyter": {
          "source_hidden": false,
          "outputs_hidden": false
        },
        "nteract": {
          "transient": {
            "deleting": false
          }
        },
        "execution": {
          "iopub.status.busy": "2020-08-18T16:23:46.596Z",
          "iopub.execute_input": "2020-08-18T16:23:46.665Z",
          "iopub.status.idle": "2020-08-18T16:23:46.840Z",
          "shell.execute_reply": "2020-08-18T16:23:46.914Z"
        }
      }
    },
    {
      "cell_type": "code",
      "source": [
        "        # 0  0 0 1 1\n",
        "        # 16 8 4 2 1\n",
        "C<<2    # 0  1 1 0 0 --> 12"
      ],
      "outputs": [
        {
          "output_type": "execute_result",
          "execution_count": 6,
          "data": {
            "text/plain": "12"
          },
          "metadata": {}
        }
      ],
      "execution_count": 6,
      "metadata": {
        "collapsed": true,
        "jupyter": {
          "source_hidden": false,
          "outputs_hidden": false
        },
        "nteract": {
          "transient": {
            "deleting": false
          }
        },
        "execution": {
          "iopub.status.busy": "2020-08-18T16:23:51.455Z",
          "iopub.execute_input": "2020-08-18T16:23:51.498Z",
          "iopub.status.idle": "2020-08-18T16:23:51.566Z",
          "shell.execute_reply": "2020-08-18T16:23:51.601Z"
        }
      }
    },
    {
      "cell_type": "code",
      "source": [
        "C<<3 # 0 0 0 1 1\n",
        "     # 1 1 0 0 0"
      ],
      "outputs": [
        {
          "output_type": "execute_result",
          "execution_count": 7,
          "data": {
            "text/plain": "24"
          },
          "metadata": {}
        }
      ],
      "execution_count": 7,
      "metadata": {
        "collapsed": true,
        "jupyter": {
          "source_hidden": false,
          "outputs_hidden": false
        },
        "nteract": {
          "transient": {
            "deleting": false
          }
        },
        "execution": {
          "iopub.status.busy": "2020-08-18T16:29:08.932Z",
          "iopub.execute_input": "2020-08-18T16:29:09.040Z",
          "iopub.status.idle": "2020-08-18T16:29:09.276Z",
          "shell.execute_reply": "2020-08-18T16:29:09.387Z"
        }
      }
    },
    {
      "cell_type": "markdown",
      "source": [
        "## Right Shift \n",
        "![](https://lh3.googleusercontent.com/-9EMELX0BeGg/XzwCIhBP8bI/AAAAAAAAppQ/bS1GYF22T4Eu1h9sTDjtOfU1Gl8Ju-iBACK8BGAsYHg/s0/2020-08-18.png)\n",
        "* Python right shift operator is exactly the opposite of the left shift operator\n",
        "* Then left side operand bits are moved towards the right side for the given number of times"
      ],
      "metadata": {
        "nteract": {
          "transient": {
            "deleting": false
          }
        }
      }
    },
    {
      "cell_type": "markdown",
      "source": [
        "10 >> 2 # 8 4 2 1\n",
        " 10 ---> 1 0 1 0\n",
        "        1 0 1 0"
      ],
      "metadata": {
        "nteract": {
          "transient": {
            "deleting": false
          }
        }
      }
    },
    {
      "cell_type": "code",
      "source": [
        "Dn = 5  # 0 1 0 1\n",
        "Dn"
      ],
      "outputs": [
        {
          "output_type": "execute_result",
          "execution_count": 9,
          "data": {
            "text/plain": "5"
          },
          "metadata": {}
        }
      ],
      "execution_count": 9,
      "metadata": {
        "collapsed": true,
        "jupyter": {
          "source_hidden": false,
          "outputs_hidden": false
        },
        "nteract": {
          "transient": {
            "deleting": false
          }
        },
        "execution": {
          "iopub.status.busy": "2020-08-18T16:35:24.622Z",
          "iopub.execute_input": "2020-08-18T16:35:24.654Z",
          "iopub.status.idle": "2020-08-18T16:35:24.704Z",
          "shell.execute_reply": "2020-08-18T16:35:24.725Z"
        }
      }
    },
    {
      "cell_type": "code",
      "source": [
        "Dn << 1  \n",
        "# 0 1 0 1 --> 1 0 1 0"
      ],
      "outputs": [
        {
          "output_type": "execute_result",
          "execution_count": 10,
          "data": {
            "text/plain": "10"
          },
          "metadata": {}
        }
      ],
      "execution_count": 10,
      "metadata": {
        "collapsed": true,
        "jupyter": {
          "source_hidden": false,
          "outputs_hidden": false
        },
        "nteract": {
          "transient": {
            "deleting": false
          }
        },
        "execution": {
          "iopub.status.busy": "2020-08-18T16:35:33.370Z",
          "iopub.execute_input": "2020-08-18T16:35:33.392Z",
          "iopub.status.idle": "2020-08-18T16:35:33.450Z",
          "shell.execute_reply": "2020-08-18T16:35:33.469Z"
        }
      }
    },
    {
      "cell_type": "code",
      "source": [
        "Dn << 2 "
      ],
      "outputs": [
        {
          "output_type": "execute_result",
          "execution_count": 13,
          "data": {
            "text/plain": "20"
          },
          "metadata": {}
        }
      ],
      "execution_count": 13,
      "metadata": {
        "collapsed": true,
        "jupyter": {
          "source_hidden": false,
          "outputs_hidden": false
        },
        "nteract": {
          "transient": {
            "deleting": false
          }
        },
        "execution": {
          "iopub.status.busy": "2020-08-18T16:37:45.969Z",
          "iopub.execute_input": "2020-08-18T16:37:45.988Z",
          "iopub.status.idle": "2020-08-18T16:37:46.029Z",
          "shell.execute_reply": "2020-08-18T16:37:46.059Z"
        }
      }
    },
    {
      "cell_type": "markdown",
      "source": [
        "### Operator Precedence\n",
        "\n",
        "* Precedence of python operators means the `priority level of operators`.\n",
        "* This becomes vital when an expression has multiple operators in it\n",
        "\n",
        "|Operators|\tMeaning|\n",
        "|--------|---------|\n",
        "|()|\tParentheses|\n",
        "|**\t|Exponent|\n",
        "|+x, -x, ~x\t|Unary plus, Unary minus, Bitwise NOT|\n",
        "|*, /, //, % |\tMultiplication, Division, Floor division, Modulus|\n",
        "|+, -\t|Addition, Subtraction|\n",
        "|<<, >>\t|Bitwise shift operators|\n",
        "|&\t|Bitwise AND|\n",
        "|^\t|Bitwise XOR|\n",
        "|`|`\t|Bitwise OR|\n",
        "|==, !=, >, >=, <, <=, |is, is not, in, not in\tComparisons, Identity, Membership operators|\n",
        "|not\t|Logical NOT|\n",
        "|and\t|Logical AND|\n",
        "|or\t|Logical OR|\n"
      ],
      "metadata": {
        "nteract": {
          "transient": {
            "deleting": false
          }
        }
      }
    },
    {
      "cell_type": "code",
      "source": [
        "2 + 3"
      ],
      "outputs": [
        {
          "output_type": "execute_result",
          "execution_count": 16,
          "data": {
            "text/plain": "5"
          },
          "metadata": {}
        }
      ],
      "execution_count": 16,
      "metadata": {
        "collapsed": true,
        "jupyter": {
          "source_hidden": false,
          "outputs_hidden": false
        },
        "nteract": {
          "transient": {
            "deleting": false
          }
        },
        "execution": {
          "iopub.status.busy": "2020-08-18T16:42:31.773Z",
          "iopub.execute_input": "2020-08-18T16:42:31.815Z",
          "iopub.status.idle": "2020-08-18T16:42:31.883Z",
          "shell.execute_reply": "2020-08-18T16:42:31.919Z"
        }
      }
    },
    {
      "cell_type": "code",
      "source": [
        "2 + 3 * 4 # First 3 will multiply with 4 and total will add to 2"
      ],
      "outputs": [
        {
          "output_type": "execute_result",
          "execution_count": 17,
          "data": {
            "text/plain": "14"
          },
          "metadata": {}
        }
      ],
      "execution_count": 17,
      "metadata": {
        "collapsed": true,
        "jupyter": {
          "source_hidden": false,
          "outputs_hidden": false
        },
        "nteract": {
          "transient": {
            "deleting": false
          }
        },
        "execution": {
          "iopub.status.busy": "2020-08-18T16:43:16.626Z",
          "iopub.execute_input": "2020-08-18T16:43:16.647Z",
          "iopub.status.idle": "2020-08-18T16:43:16.687Z",
          "shell.execute_reply": "2020-08-18T16:43:16.719Z"
        }
      }
    },
    {
      "cell_type": "code",
      "source": [
        "2 + 3 - 4 *10"
      ],
      "outputs": [
        {
          "output_type": "execute_result",
          "execution_count": 18,
          "data": {
            "text/plain": "-35"
          },
          "metadata": {}
        }
      ],
      "execution_count": 18,
      "metadata": {
        "collapsed": true,
        "jupyter": {
          "source_hidden": false,
          "outputs_hidden": false
        },
        "nteract": {
          "transient": {
            "deleting": false
          }
        },
        "execution": {
          "iopub.status.busy": "2020-08-18T16:44:06.891Z",
          "iopub.execute_input": "2020-08-18T16:44:06.920Z",
          "iopub.status.idle": "2020-08-18T16:44:06.971Z",
          "shell.execute_reply": "2020-08-18T16:44:07.003Z"
        }
      }
    },
    {
      "cell_type": "code",
      "source": [
        "(2 + 3) - (4 * 10)"
      ],
      "outputs": [
        {
          "output_type": "execute_result",
          "execution_count": 19,
          "data": {
            "text/plain": "-35"
          },
          "metadata": {}
        }
      ],
      "execution_count": 19,
      "metadata": {
        "collapsed": true,
        "jupyter": {
          "source_hidden": false,
          "outputs_hidden": false
        },
        "nteract": {
          "transient": {
            "deleting": false
          }
        },
        "execution": {
          "iopub.status.busy": "2020-08-18T16:45:06.520Z",
          "iopub.execute_input": "2020-08-18T16:45:06.551Z",
          "iopub.status.idle": "2020-08-18T16:45:06.596Z",
          "shell.execute_reply": "2020-08-18T16:45:06.617Z"
        }
      }
    },
    {
      "cell_type": "code",
      "source": [],
      "outputs": [],
      "execution_count": null,
      "metadata": {
        "collapsed": true,
        "jupyter": {
          "source_hidden": false,
          "outputs_hidden": false
        },
        "nteract": {
          "transient": {
            "deleting": false
          }
        }
      }
    }
  ],
  "metadata": {
    "kernelspec": {
      "display_name": "Python 3",
      "language": "python",
      "name": "python3"
    },
    "language_info": {
      "name": "python",
      "version": "3.6.8",
      "mimetype": "text/x-python",
      "codemirror_mode": {
        "name": "ipython",
        "version": 3
      },
      "pygments_lexer": "ipython3",
      "nbconvert_exporter": "python",
      "file_extension": ".py"
    },
    "nteract": {
      "version": "0.24.1"
    }
  },
  "nbformat": 4,
  "nbformat_minor": 2
}